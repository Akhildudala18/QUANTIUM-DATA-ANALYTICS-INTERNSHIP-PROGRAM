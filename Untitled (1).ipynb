{
 "cells": [
  {
   "cell_type": "markdown",
   "id": "d5e5ad27",
   "metadata": {},
   "source": [
    "# Problem Statement:\n"
   ]
  },
  {
   "cell_type": "markdown",
   "id": "82f2c1be",
   "metadata": {},
   "source": [
    "\n",
    "The Category Manager for Chips wants to gain insights into the types of customers who purchase chips and their purchasing behavior within the region.\n",
    "The analysis aims to inform the strategic plan for the chip category in the next half-year.\n",
    "\n"
   ]
  },
  {
   "cell_type": "markdown",
   "id": "18644dc2",
   "metadata": {},
   "source": [
    "# Key areas of focus include:\n"
   ]
  },
  {
   "cell_type": "markdown",
   "id": "c6de719e",
   "metadata": {},
   "source": [
    "\n",
    "Examining transaction data for inconsistencies, missing data, outliers, and correct categorization of chip items. Ensuring data cleanliness is crucial for accurate analysis.\n",
    "Checking customer data for similar issues, merging it with transaction data, and ensuring data cleanliness throughout the process.\n",
    "Conducting data analysis to define metrics such as total sales and drivers of sales. Exploring the data through charts, graphs, and identifying trends and insights.\n",
    "Deep diving into customer segments to define recommendations based on insights. This includes determining target segments and assessing the relative importance of packet sizes."
   ]
  },
  {
   "cell_type": "markdown",
   "id": "a0062d9c",
   "metadata": {},
   "source": [
    "# Goal:"
   ]
  },
  {
   "cell_type": "markdown",
   "id": "65d582a9",
   "metadata": {},
   "source": [
    "The goal is to provide actionable insights into chip purchasing behavior, customer segmentation, and recommendations for targeting specific customer segments and packet sizes to drive sales growth in the chip category."
   ]
  },
  {
   "cell_type": "markdown",
   "id": "2c4ad217",
   "metadata": {},
   "source": [
    "# "
   ]
  },
  {
   "cell_type": "markdown",
   "id": "d817d5f4",
   "metadata": {},
   "source": [
    "# -------------------------------------------'TASK1'-------------------------------------"
   ]
  },
  {
   "cell_type": "markdown",
   "id": "35e32031",
   "metadata": {},
   "source": [
    "# "
   ]
  },
  {
   "cell_type": "markdown",
   "id": "8840c0c5",
   "metadata": {},
   "source": [
    "# "
   ]
  },
  {
   "cell_type": "markdown",
   "id": "8129c05d",
   "metadata": {},
   "source": [
    "# DATA EXPLORATION:"
   ]
  },
  {
   "cell_type": "code",
   "execution_count": 191,
   "id": "c0a12143",
   "metadata": {},
   "outputs": [],
   "source": [
    "import pandas as pd  # Importing the pandas library and aliasing it as pd for convenience.\n",
    "import matplotlib.pyplot as plt  # Importing the pyplot module from the matplotlib library and aliasing it as plt for convenience.\n",
    "import seaborn as sns  # Importing the seaborn library for statistical data visualization.\n",
    "import numpy as np  # Importing the numpy library and aliasing it as np for convenience.\n",
    "from scipy import stats  # Importing the stats module from the scipy library.\n",
    "from scipy.stats import zscore  # Importing the zscore function from the scipy.stats module.\n"
   ]
  },
  {
   "cell_type": "markdown",
   "id": "5cef6946",
   "metadata": {},
   "source": [
    "# Exploring QVI_transaction_data"
   ]
  },
  {
   "cell_type": "code",
   "execution_count": 82,
   "id": "1451fbab",
   "metadata": {},
   "outputs": [],
   "source": [
    "# Read the transaction data from an Excel file named 'QVI_transaction_data.xlsx' into a pandas DataFrame.\n",
    "Transaction_data = pd.read_excel('QVI_transaction_data.xlsx')\n"
   ]
  },
  {
   "cell_type": "code",
   "execution_count": 83,
   "id": "a9637f6b",
   "metadata": {},
   "outputs": [
    {
     "data": {
      "text/html": [
       "<div>\n",
       "<style scoped>\n",
       "    .dataframe tbody tr th:only-of-type {\n",
       "        vertical-align: middle;\n",
       "    }\n",
       "\n",
       "    .dataframe tbody tr th {\n",
       "        vertical-align: top;\n",
       "    }\n",
       "\n",
       "    .dataframe thead th {\n",
       "        text-align: right;\n",
       "    }\n",
       "</style>\n",
       "<table border=\"1\" class=\"dataframe\">\n",
       "  <thead>\n",
       "    <tr style=\"text-align: right;\">\n",
       "      <th></th>\n",
       "      <th>DATE</th>\n",
       "      <th>STORE_NBR</th>\n",
       "      <th>LYLTY_CARD_NBR</th>\n",
       "      <th>TXN_ID</th>\n",
       "      <th>PROD_NBR</th>\n",
       "      <th>PROD_NAME</th>\n",
       "      <th>PROD_QTY</th>\n",
       "      <th>TOT_SALES</th>\n",
       "    </tr>\n",
       "  </thead>\n",
       "  <tbody>\n",
       "    <tr>\n",
       "      <th>0</th>\n",
       "      <td>43390</td>\n",
       "      <td>1</td>\n",
       "      <td>1000</td>\n",
       "      <td>1</td>\n",
       "      <td>5</td>\n",
       "      <td>Natural Chip        Compny SeaSalt175g</td>\n",
       "      <td>2</td>\n",
       "      <td>6.0</td>\n",
       "    </tr>\n",
       "    <tr>\n",
       "      <th>1</th>\n",
       "      <td>43599</td>\n",
       "      <td>1</td>\n",
       "      <td>1307</td>\n",
       "      <td>348</td>\n",
       "      <td>66</td>\n",
       "      <td>CCs Nacho Cheese    175g</td>\n",
       "      <td>3</td>\n",
       "      <td>6.3</td>\n",
       "    </tr>\n",
       "    <tr>\n",
       "      <th>2</th>\n",
       "      <td>43605</td>\n",
       "      <td>1</td>\n",
       "      <td>1343</td>\n",
       "      <td>383</td>\n",
       "      <td>61</td>\n",
       "      <td>Smiths Crinkle Cut  Chips Chicken 170g</td>\n",
       "      <td>2</td>\n",
       "      <td>2.9</td>\n",
       "    </tr>\n",
       "    <tr>\n",
       "      <th>3</th>\n",
       "      <td>43329</td>\n",
       "      <td>2</td>\n",
       "      <td>2373</td>\n",
       "      <td>974</td>\n",
       "      <td>69</td>\n",
       "      <td>Smiths Chip Thinly  S/Cream&amp;Onion 175g</td>\n",
       "      <td>5</td>\n",
       "      <td>15.0</td>\n",
       "    </tr>\n",
       "    <tr>\n",
       "      <th>4</th>\n",
       "      <td>43330</td>\n",
       "      <td>2</td>\n",
       "      <td>2426</td>\n",
       "      <td>1038</td>\n",
       "      <td>108</td>\n",
       "      <td>Kettle Tortilla ChpsHny&amp;Jlpno Chili 150g</td>\n",
       "      <td>3</td>\n",
       "      <td>13.8</td>\n",
       "    </tr>\n",
       "  </tbody>\n",
       "</table>\n",
       "</div>"
      ],
      "text/plain": [
       "    DATE  STORE_NBR  LYLTY_CARD_NBR  TXN_ID  PROD_NBR  \\\n",
       "0  43390          1            1000       1         5   \n",
       "1  43599          1            1307     348        66   \n",
       "2  43605          1            1343     383        61   \n",
       "3  43329          2            2373     974        69   \n",
       "4  43330          2            2426    1038       108   \n",
       "\n",
       "                                  PROD_NAME  PROD_QTY  TOT_SALES  \n",
       "0    Natural Chip        Compny SeaSalt175g         2        6.0  \n",
       "1                  CCs Nacho Cheese    175g         3        6.3  \n",
       "2    Smiths Crinkle Cut  Chips Chicken 170g         2        2.9  \n",
       "3    Smiths Chip Thinly  S/Cream&Onion 175g         5       15.0  \n",
       "4  Kettle Tortilla ChpsHny&Jlpno Chili 150g         3       13.8  "
      ]
     },
     "execution_count": 83,
     "metadata": {},
     "output_type": "execute_result"
    }
   ],
   "source": [
    "# Display the first few rows of the Transaction_data DataFrame to get a quick overview of its structure and contents.\n",
    "Transaction_data.head()\n"
   ]
  },
  {
   "cell_type": "code",
   "execution_count": 84,
   "id": "87b41d39",
   "metadata": {},
   "outputs": [
    {
     "name": "stdout",
     "output_type": "stream",
     "text": [
      "<class 'pandas.core.frame.DataFrame'>\n",
      "RangeIndex: 264836 entries, 0 to 264835\n",
      "Data columns (total 8 columns):\n",
      " #   Column          Non-Null Count   Dtype  \n",
      "---  ------          --------------   -----  \n",
      " 0   DATE            264836 non-null  int64  \n",
      " 1   STORE_NBR       264836 non-null  int64  \n",
      " 2   LYLTY_CARD_NBR  264836 non-null  int64  \n",
      " 3   TXN_ID          264836 non-null  int64  \n",
      " 4   PROD_NBR        264836 non-null  int64  \n",
      " 5   PROD_NAME       264836 non-null  object \n",
      " 6   PROD_QTY        264836 non-null  int64  \n",
      " 7   TOT_SALES       264836 non-null  float64\n",
      "dtypes: float64(1), int64(6), object(1)\n",
      "memory usage: 16.2+ MB\n"
     ]
    }
   ],
   "source": [
    "# Display concise summary information about the Transaction_data DataFrame, including data types, non-null counts, and memory usage.\n",
    "Transaction_data.info()\n"
   ]
  },
  {
   "cell_type": "code",
   "execution_count": 85,
   "id": "4137305f",
   "metadata": {},
   "outputs": [
    {
     "name": "stdout",
     "output_type": "stream",
     "text": [
      "Missing Data:\n",
      "DATE              0\n",
      "STORE_NBR         0\n",
      "LYLTY_CARD_NBR    0\n",
      "TXN_ID            0\n",
      "PROD_NBR          0\n",
      "PROD_NAME         0\n",
      "PROD_QTY          0\n",
      "TOT_SALES         0\n",
      "dtype: int64\n"
     ]
    }
   ],
   "source": [
    "# Calculate the number of missing values in each column of the Transaction_data DataFrame.\n",
    "missing_data = Transaction_data.isnull().sum()\n",
    "\n",
    "# Print the count of missing data for each column, with a newline separating each column's count.\n",
    "print(f\"Missing Data:\\n{missing_data}\")\n"
   ]
  },
  {
   "cell_type": "code",
   "execution_count": 86,
   "id": "d06caa1a",
   "metadata": {},
   "outputs": [
    {
     "name": "stdout",
     "output_type": "stream",
     "text": [
      "Duplicate values exist in the following columns:\n",
      "Index(['TXN_ID'], dtype='object')\n"
     ]
    }
   ],
   "source": [
    "# Check for duplicate values in the first row of the Transaction_data DataFrame.\n",
    "# The duplicates_in_row variable will contain columns with duplicate values in the first row.\n",
    "duplicates_in_row = Transaction_data.columns[Transaction_data.iloc[0].duplicated()]\n",
    "\n",
    "# Print columns with duplicate values, if any, in the first row.\n",
    "if len(duplicates_in_row) > 0:\n",
    "    print(\"Duplicate values exist in the following columns:\")\n",
    "    print(duplicates_in_row)\n",
    "else:\n",
    "    print(\"No duplicate values in the row.\")\n"
   ]
  },
  {
   "cell_type": "code",
   "execution_count": 87,
   "id": "12cedecd",
   "metadata": {},
   "outputs": [],
   "source": [
    "# Drop duplicate rows from the Transaction_data DataFrame and modify it in place.\n",
    "Transaction_data.drop_duplicates(inplace=True)\n"
   ]
  },
  {
   "cell_type": "markdown",
   "id": "0b412b75",
   "metadata": {},
   "source": [
    "We can see that the date column is in an integer format. Let's change this to a\n",
    "date format."
   ]
  },
  {
   "cell_type": "code",
   "execution_count": 88,
   "id": "7d45a9eb",
   "metadata": {},
   "outputs": [],
   "source": [
    "# Convert the 'DATE' column in the Transaction_data DataFrame to datetime format.\n",
    "# The 'DATE' column is assumed to represent dates stored as Excel serial numbers.\n",
    "# The origin parameter specifies the date from which Excel serial numbers start counting.\n",
    "# The unit parameter specifies the unit of measurement for the serial numbers, which is 'D' for days.\n",
    "Transaction_data['DATE'] = pd.to_datetime(Transaction_data['DATE'], origin='1899-12-30', unit='D')\n"
   ]
  },
  {
   "cell_type": "code",
   "execution_count": 89,
   "id": "1e9d7022",
   "metadata": {},
   "outputs": [],
   "source": [
    "# Rename columns in the Transaction_data DataFrame to standardize column names.\n",
    "# This makes the column names more consistent and easier to work with.\n",
    "Transaction_data.rename(columns={\n",
    "    'STORE_NBR': 'STORE_NUMBER',\n",
    "    'LYLTY_CARD_NBR': 'LOYALTY_CARD_NUMBER',\n",
    "    'TXN_ID': 'TRANSACTION_NUMBER',\n",
    "    'PROD_NBR': 'PRODUCT_NUMBER',\n",
    "    'PROD_NAME': 'PRODUCT_NAME',\n",
    "    'PROD_QTY': 'PRODUCT_QUANTITY',\n",
    "    'TOT_SALES': 'TOTAL_SALES'\n",
    "}, inplace=True)\n"
   ]
  },
  {
   "cell_type": "code",
   "execution_count": 90,
   "id": "6edf6c0b",
   "metadata": {
    "scrolled": false
   },
   "outputs": [
    {
     "name": "stdout",
     "output_type": "stream",
     "text": [
      "<class 'pandas.core.frame.DataFrame'>\n",
      "Int64Index: 264835 entries, 0 to 264835\n",
      "Data columns (total 8 columns):\n",
      " #   Column               Non-Null Count   Dtype         \n",
      "---  ------               --------------   -----         \n",
      " 0   DATE                 264835 non-null  datetime64[ns]\n",
      " 1   STORE_NUMBER         264835 non-null  int64         \n",
      " 2   LOYALTY_CARD_NUMBER  264835 non-null  int64         \n",
      " 3   TRANSACTION_NUMBER   264835 non-null  int64         \n",
      " 4   PRODUCT_NUMBER       264835 non-null  int64         \n",
      " 5   PRODUCT_NAME         264835 non-null  object        \n",
      " 6   PRODUCT_QUANTITY     264835 non-null  int64         \n",
      " 7   TOTAL_SALES          264835 non-null  float64       \n",
      "dtypes: datetime64[ns](1), float64(1), int64(5), object(1)\n",
      "memory usage: 18.2+ MB\n"
     ]
    }
   ],
   "source": [
    "# Display concise summary information about the Transaction_data DataFrame after performing data transformations.\n",
    "Transaction_data.info()\n"
   ]
  },
  {
   "cell_type": "markdown",
   "id": "f8113535",
   "metadata": {},
   "source": [
    "We should check that we are looking at the right products by examining PRODUCT_NAME.\n"
   ]
  },
  {
   "cell_type": "code",
   "execution_count": 145,
   "id": "3bd46404",
   "metadata": {},
   "outputs": [
    {
     "data": {
      "text/plain": [
       "array(['Natural Chip        Compny SeaSalt175g',\n",
       "       'Smiths Crinkle Cut  Chips Chicken 170g',\n",
       "       'Smiths Chip Thinly  S/Cream&Onion 175g',\n",
       "       'Smiths Crinkle Chips Salt & Vinegar 330g',\n",
       "       'Doritos Corn Chip Mexican Jalapeno 150g',\n",
       "       'Thins Chips Light&  Tangy 175g',\n",
       "       'Doritos Corn Chip Southern Chicken 150g',\n",
       "       'Smiths Chip Thinly  Cut Original 175g',\n",
       "       'Thins Chips         Originl saltd 175g',\n",
       "       'Natural ChipCo      Hony Soy Chckn175g',\n",
       "       'Thins Chips Seasonedchicken 175g',\n",
       "       'Doritos Corn Chips  Original 170g',\n",
       "       'Cobs Popd Swt/Chlli &Sr/Cream Chips 110g',\n",
       "       'Natural Chip Co     Tmato Hrb&Spce 175g',\n",
       "       'Smiths Crinkle Cut  Chips Original 170g',\n",
       "       'Cobs Popd Sea Salt  Chips 110g',\n",
       "       'Smiths Crinkle Cut  Chips Chs&Onion170g',\n",
       "       'French Fries Potato Chips 175g',\n",
       "       'Doritos Corn Chips  Cheese Supreme 170g',\n",
       "       'WW Original Corn    Chips 200g',\n",
       "       'Thins Potato Chips  Hot & Spicy 175g',\n",
       "       'Cobs Popd Sour Crm  &Chives Chips 110g',\n",
       "       'Smiths Crnkle Chip  Orgnl Big Bag 380g',\n",
       "       'Doritos Corn Chips  Nacho Cheese 170g',\n",
       "       'WW D/Style Chip     Sea Salt 200g',\n",
       "       'WW Original Stacked Chips 160g',\n",
       "       'Smiths Chip Thinly  CutSalt/Vinegr175g',\n",
       "       'Thins Chips Salt &  Vinegar 175g',\n",
       "       'Smiths Crinkle Cut  Chips Barbecue 170g',\n",
       "       'Tostitos Smoked     Chipotle 175g',\n",
       "       'WW Supreme Cheese   Corn Chips 200g',\n",
       "       'WW Sour Cream &OnionStacked Chips 160g',\n",
       "       'Natural ChipCo Sea  Salt & Vinegr 175g'], dtype=object)"
      ]
     },
     "execution_count": 145,
     "metadata": {},
     "output_type": "execute_result"
    }
   ],
   "source": [
    "# Retrieve unique values from the 'PRODUCT_NAME' column in the Transaction_data DataFrame.\n",
    "unique_products = Transaction_data['PRODUCT_NAME'].unique()\n"
   ]
  },
  {
   "cell_type": "markdown",
   "id": "68abff4b",
   "metadata": {},
   "source": [
    "Looks like we are definitely looking at potato chips but how can we check that\n",
    "these are all chips? We can do some basic text analysis by summarising the\n",
    "individual words in the product name."
   ]
  },
  {
   "cell_type": "code",
   "execution_count": 107,
   "id": "b343d21d",
   "metadata": {},
   "outputs": [
    {
     "data": {
      "text/html": [
       "<div>\n",
       "<style scoped>\n",
       "    .dataframe tbody tr th:only-of-type {\n",
       "        vertical-align: middle;\n",
       "    }\n",
       "\n",
       "    .dataframe tbody tr th {\n",
       "        vertical-align: top;\n",
       "    }\n",
       "\n",
       "    .dataframe thead th {\n",
       "        text-align: right;\n",
       "    }\n",
       "</style>\n",
       "<table border=\"1\" class=\"dataframe\">\n",
       "  <thead>\n",
       "    <tr style=\"text-align: right;\">\n",
       "      <th></th>\n",
       "      <th>DATE</th>\n",
       "      <th>STORE_NUMBER</th>\n",
       "      <th>LOYALTY_CARD_NUMBER</th>\n",
       "      <th>TRANSACTION_NUMBER</th>\n",
       "      <th>PRODUCT_NUMBER</th>\n",
       "      <th>PRODUCT_NAME</th>\n",
       "      <th>PRODUCT_QUANTITY</th>\n",
       "      <th>TOTAL_SALES</th>\n",
       "    </tr>\n",
       "  </thead>\n",
       "  <tbody>\n",
       "    <tr>\n",
       "      <th>0</th>\n",
       "      <td>2018-10-17</td>\n",
       "      <td>1</td>\n",
       "      <td>1000</td>\n",
       "      <td>1</td>\n",
       "      <td>5</td>\n",
       "      <td>Natural Chip        Compny SeaSalt175g</td>\n",
       "      <td>2</td>\n",
       "      <td>6.0</td>\n",
       "    </tr>\n",
       "    <tr>\n",
       "      <th>2</th>\n",
       "      <td>2019-05-20</td>\n",
       "      <td>1</td>\n",
       "      <td>1343</td>\n",
       "      <td>383</td>\n",
       "      <td>61</td>\n",
       "      <td>Smiths Crinkle Cut  Chips Chicken 170g</td>\n",
       "      <td>2</td>\n",
       "      <td>2.9</td>\n",
       "    </tr>\n",
       "    <tr>\n",
       "      <th>3</th>\n",
       "      <td>2018-08-17</td>\n",
       "      <td>2</td>\n",
       "      <td>2373</td>\n",
       "      <td>974</td>\n",
       "      <td>69</td>\n",
       "      <td>Smiths Chip Thinly  S/Cream&amp;Onion 175g</td>\n",
       "      <td>5</td>\n",
       "      <td>15.0</td>\n",
       "    </tr>\n",
       "    <tr>\n",
       "      <th>6</th>\n",
       "      <td>2019-05-16</td>\n",
       "      <td>4</td>\n",
       "      <td>4149</td>\n",
       "      <td>3333</td>\n",
       "      <td>16</td>\n",
       "      <td>Smiths Crinkle Chips Salt &amp; Vinegar 330g</td>\n",
       "      <td>1</td>\n",
       "      <td>5.7</td>\n",
       "    </tr>\n",
       "    <tr>\n",
       "      <th>8</th>\n",
       "      <td>2018-08-20</td>\n",
       "      <td>5</td>\n",
       "      <td>5026</td>\n",
       "      <td>4525</td>\n",
       "      <td>42</td>\n",
       "      <td>Doritos Corn Chip Mexican Jalapeno 150g</td>\n",
       "      <td>1</td>\n",
       "      <td>3.9</td>\n",
       "    </tr>\n",
       "  </tbody>\n",
       "</table>\n",
       "</div>"
      ],
      "text/plain": [
       "        DATE  STORE_NUMBER  LOYALTY_CARD_NUMBER  TRANSACTION_NUMBER  \\\n",
       "0 2018-10-17             1                 1000                   1   \n",
       "2 2019-05-20             1                 1343                 383   \n",
       "3 2018-08-17             2                 2373                 974   \n",
       "6 2019-05-16             4                 4149                3333   \n",
       "8 2018-08-20             5                 5026                4525   \n",
       "\n",
       "   PRODUCT_NUMBER                              PRODUCT_NAME  PRODUCT_QUANTITY  \\\n",
       "0               5    Natural Chip        Compny SeaSalt175g                 2   \n",
       "2              61    Smiths Crinkle Cut  Chips Chicken 170g                 2   \n",
       "3              69    Smiths Chip Thinly  S/Cream&Onion 175g                 5   \n",
       "6              16  Smiths Crinkle Chips Salt & Vinegar 330g                 1   \n",
       "8              42   Doritos Corn Chip Mexican Jalapeno 150g                 1   \n",
       "\n",
       "   TOTAL_SALES  \n",
       "0          6.0  \n",
       "2          2.9  \n",
       "3         15.0  \n",
       "6          5.7  \n",
       "8          3.9  "
      ]
     },
     "execution_count": 107,
     "metadata": {},
     "output_type": "execute_result"
    }
   ],
   "source": [
    "# Filter rows where PRODUCT_NAME contains the word \"chip\"\n",
    "chip_products = Transaction_data[Transaction_data['PRODUCT_NAME'].str.contains('chip', case=False)]\n",
    "\n",
    "# Display the filtered rows\n",
    "chip_products.head()\n"
   ]
  },
  {
   "cell_type": "code",
   "execution_count": 108,
   "id": "1507c0fa",
   "metadata": {},
   "outputs": [
    {
     "data": {
      "text/html": [
       "<div>\n",
       "<style scoped>\n",
       "    .dataframe tbody tr th:only-of-type {\n",
       "        vertical-align: middle;\n",
       "    }\n",
       "\n",
       "    .dataframe tbody tr th {\n",
       "        vertical-align: top;\n",
       "    }\n",
       "\n",
       "    .dataframe thead th {\n",
       "        text-align: right;\n",
       "    }\n",
       "</style>\n",
       "<table border=\"1\" class=\"dataframe\">\n",
       "  <thead>\n",
       "    <tr style=\"text-align: right;\">\n",
       "      <th></th>\n",
       "      <th>DATE</th>\n",
       "      <th>STORE_NUMBER</th>\n",
       "      <th>LOYALTY_CARD_NUMBER</th>\n",
       "      <th>TRANSACTION_NUMBER</th>\n",
       "      <th>PRODUCT_NUMBER</th>\n",
       "      <th>PRODUCT_NAME</th>\n",
       "      <th>PRODUCT_QUANTITY</th>\n",
       "      <th>TOTAL_SALES</th>\n",
       "    </tr>\n",
       "  </thead>\n",
       "  <tbody>\n",
       "    <tr>\n",
       "      <th>1</th>\n",
       "      <td>2019-05-14</td>\n",
       "      <td>1</td>\n",
       "      <td>1307</td>\n",
       "      <td>348</td>\n",
       "      <td>66</td>\n",
       "      <td>CCs Nacho Cheese    175g</td>\n",
       "      <td>3</td>\n",
       "      <td>6.3</td>\n",
       "    </tr>\n",
       "    <tr>\n",
       "      <th>4</th>\n",
       "      <td>2018-08-18</td>\n",
       "      <td>2</td>\n",
       "      <td>2426</td>\n",
       "      <td>1038</td>\n",
       "      <td>108</td>\n",
       "      <td>Kettle Tortilla ChpsHny&amp;Jlpno Chili 150g</td>\n",
       "      <td>3</td>\n",
       "      <td>13.8</td>\n",
       "    </tr>\n",
       "    <tr>\n",
       "      <th>5</th>\n",
       "      <td>2019-05-19</td>\n",
       "      <td>4</td>\n",
       "      <td>4074</td>\n",
       "      <td>2982</td>\n",
       "      <td>57</td>\n",
       "      <td>Old El Paso Salsa   Dip Tomato Mild 300g</td>\n",
       "      <td>1</td>\n",
       "      <td>5.1</td>\n",
       "    </tr>\n",
       "    <tr>\n",
       "      <th>7</th>\n",
       "      <td>2019-05-16</td>\n",
       "      <td>4</td>\n",
       "      <td>4196</td>\n",
       "      <td>3539</td>\n",
       "      <td>24</td>\n",
       "      <td>Grain Waves         Sweet Chilli 210g</td>\n",
       "      <td>1</td>\n",
       "      <td>3.6</td>\n",
       "    </tr>\n",
       "    <tr>\n",
       "      <th>9</th>\n",
       "      <td>2018-08-18</td>\n",
       "      <td>7</td>\n",
       "      <td>7150</td>\n",
       "      <td>6900</td>\n",
       "      <td>52</td>\n",
       "      <td>Grain Waves Sour    Cream&amp;Chives 210G</td>\n",
       "      <td>2</td>\n",
       "      <td>7.2</td>\n",
       "    </tr>\n",
       "  </tbody>\n",
       "</table>\n",
       "</div>"
      ],
      "text/plain": [
       "        DATE  STORE_NUMBER  LOYALTY_CARD_NUMBER  TRANSACTION_NUMBER  \\\n",
       "1 2019-05-14             1                 1307                 348   \n",
       "4 2018-08-18             2                 2426                1038   \n",
       "5 2019-05-19             4                 4074                2982   \n",
       "7 2019-05-16             4                 4196                3539   \n",
       "9 2018-08-18             7                 7150                6900   \n",
       "\n",
       "   PRODUCT_NUMBER                              PRODUCT_NAME  PRODUCT_QUANTITY  \\\n",
       "1              66                  CCs Nacho Cheese    175g                 3   \n",
       "4             108  Kettle Tortilla ChpsHny&Jlpno Chili 150g                 3   \n",
       "5              57  Old El Paso Salsa   Dip Tomato Mild 300g                 1   \n",
       "7              24     Grain Waves         Sweet Chilli 210g                 1   \n",
       "9              52     Grain Waves Sour    Cream&Chives 210G                 2   \n",
       "\n",
       "   TOTAL_SALES  \n",
       "1          6.3  \n",
       "4         13.8  \n",
       "5          5.1  \n",
       "7          3.6  \n",
       "9          7.2  "
      ]
     },
     "execution_count": 108,
     "metadata": {},
     "output_type": "execute_result"
    }
   ],
   "source": [
    "# Filter rows where PRODUCT_NAME does not contain the word \"chip\"\n",
    "non_chip_products = Transaction_data[~Transaction_data['PRODUCT_NAME'].str.contains('chip', case=False)]\n",
    "\n",
    "# Display the rows where PRODUCT_NAME does not contain \"chip\"\n",
    "non_chip_products.head()\n"
   ]
  },
  {
   "cell_type": "code",
   "execution_count": 116,
   "id": "c5455c7c",
   "metadata": {},
   "outputs": [
    {
     "name": "stdout",
     "output_type": "stream",
     "text": [
      "<class 'pandas.core.frame.DataFrame'>\n",
      "Int64Index: 74570 entries, 0 to 264834\n",
      "Data columns (total 8 columns):\n",
      " #   Column               Non-Null Count  Dtype         \n",
      "---  ------               --------------  -----         \n",
      " 0   DATE                 74570 non-null  datetime64[ns]\n",
      " 1   STORE_NUMBER         74570 non-null  int64         \n",
      " 2   LOYALTY_CARD_NUMBER  74570 non-null  int64         \n",
      " 3   TRANSACTION_NUMBER   74570 non-null  int64         \n",
      " 4   PRODUCT_NUMBER       74570 non-null  int64         \n",
      " 5   PRODUCT_NAME         74570 non-null  object        \n",
      " 6   PRODUCT_QUANTITY     74570 non-null  int64         \n",
      " 7   TOTAL_SALES          74570 non-null  float64       \n",
      "dtypes: datetime64[ns](1), float64(1), int64(5), object(1)\n",
      "memory usage: 5.1+ MB\n"
     ]
    }
   ],
   "source": [
    "# Remove non-chip rows from the original DataFrame\n",
    "Transaction_data = Transaction_data[Transaction_data['PRODUCT_NAME'].str.contains('chip', case=False)]\n",
    "Transaction_data.info()"
   ]
  },
  {
   "cell_type": "markdown",
   "id": "337e0a1c",
   "metadata": {},
   "source": [
    "Next, we can use `describe()` to check summary statistics such as mean, min and max\n",
    "values for each feature to see if there are any obvious outliers in the data and if\n",
    "there are any nulls in any of the columns "
   ]
  },
  {
   "cell_type": "code",
   "execution_count": 117,
   "id": "1d154f86",
   "metadata": {},
   "outputs": [
    {
     "data": {
      "text/html": [
       "<div>\n",
       "<style scoped>\n",
       "    .dataframe tbody tr th:only-of-type {\n",
       "        vertical-align: middle;\n",
       "    }\n",
       "\n",
       "    .dataframe tbody tr th {\n",
       "        vertical-align: top;\n",
       "    }\n",
       "\n",
       "    .dataframe thead th {\n",
       "        text-align: right;\n",
       "    }\n",
       "</style>\n",
       "<table border=\"1\" class=\"dataframe\">\n",
       "  <thead>\n",
       "    <tr style=\"text-align: right;\">\n",
       "      <th></th>\n",
       "      <th>STORE_NUMBER</th>\n",
       "      <th>LOYALTY_CARD_NUMBER</th>\n",
       "      <th>TRANSACTION_NUMBER</th>\n",
       "      <th>PRODUCT_NUMBER</th>\n",
       "      <th>PRODUCT_QUANTITY</th>\n",
       "      <th>TOTAL_SALES</th>\n",
       "    </tr>\n",
       "  </thead>\n",
       "  <tbody>\n",
       "    <tr>\n",
       "      <th>count</th>\n",
       "      <td>74570.000000</td>\n",
       "      <td>7.457000e+04</td>\n",
       "      <td>74570.000000</td>\n",
       "      <td>74570.000000</td>\n",
       "      <td>74570.000000</td>\n",
       "      <td>74570.000000</td>\n",
       "    </tr>\n",
       "    <tr>\n",
       "      <th>mean</th>\n",
       "      <td>135.457651</td>\n",
       "      <td>1.359095e+05</td>\n",
       "      <td>135533.580448</td>\n",
       "      <td>50.651039</td>\n",
       "      <td>1.904264</td>\n",
       "      <td>6.860511</td>\n",
       "    </tr>\n",
       "    <tr>\n",
       "      <th>std</th>\n",
       "      <td>76.753058</td>\n",
       "      <td>8.025342e+04</td>\n",
       "      <td>77960.794363</td>\n",
       "      <td>32.792579</td>\n",
       "      <td>0.343675</td>\n",
       "      <td>2.256661</td>\n",
       "    </tr>\n",
       "    <tr>\n",
       "      <th>min</th>\n",
       "      <td>1.000000</td>\n",
       "      <td>1.000000e+03</td>\n",
       "      <td>1.000000</td>\n",
       "      <td>1.000000</td>\n",
       "      <td>1.000000</td>\n",
       "      <td>1.900000</td>\n",
       "    </tr>\n",
       "    <tr>\n",
       "      <th>25%</th>\n",
       "      <td>70.000000</td>\n",
       "      <td>7.013000e+04</td>\n",
       "      <td>68237.250000</td>\n",
       "      <td>27.000000</td>\n",
       "      <td>2.000000</td>\n",
       "      <td>5.800000</td>\n",
       "    </tr>\n",
       "    <tr>\n",
       "      <th>50%</th>\n",
       "      <td>131.000000</td>\n",
       "      <td>1.311975e+05</td>\n",
       "      <td>135503.500000</td>\n",
       "      <td>42.000000</td>\n",
       "      <td>2.000000</td>\n",
       "      <td>6.600000</td>\n",
       "    </tr>\n",
       "    <tr>\n",
       "      <th>75%</th>\n",
       "      <td>203.000000</td>\n",
       "      <td>2.032402e+05</td>\n",
       "      <td>203284.250000</td>\n",
       "      <td>78.000000</td>\n",
       "      <td>2.000000</td>\n",
       "      <td>7.800000</td>\n",
       "    </tr>\n",
       "    <tr>\n",
       "      <th>max</th>\n",
       "      <td>272.000000</td>\n",
       "      <td>2.373711e+06</td>\n",
       "      <td>270209.000000</td>\n",
       "      <td>111.000000</td>\n",
       "      <td>5.000000</td>\n",
       "      <td>29.500000</td>\n",
       "    </tr>\n",
       "  </tbody>\n",
       "</table>\n",
       "</div>"
      ],
      "text/plain": [
       "       STORE_NUMBER  LOYALTY_CARD_NUMBER  TRANSACTION_NUMBER  PRODUCT_NUMBER  \\\n",
       "count  74570.000000         7.457000e+04        74570.000000    74570.000000   \n",
       "mean     135.457651         1.359095e+05       135533.580448       50.651039   \n",
       "std       76.753058         8.025342e+04        77960.794363       32.792579   \n",
       "min        1.000000         1.000000e+03            1.000000        1.000000   \n",
       "25%       70.000000         7.013000e+04        68237.250000       27.000000   \n",
       "50%      131.000000         1.311975e+05       135503.500000       42.000000   \n",
       "75%      203.000000         2.032402e+05       203284.250000       78.000000   \n",
       "max      272.000000         2.373711e+06       270209.000000      111.000000   \n",
       "\n",
       "       PRODUCT_QUANTITY   TOTAL_SALES  \n",
       "count      74570.000000  74570.000000  \n",
       "mean           1.904264      6.860511  \n",
       "std            0.343675      2.256661  \n",
       "min            1.000000      1.900000  \n",
       "25%            2.000000      5.800000  \n",
       "50%            2.000000      6.600000  \n",
       "75%            2.000000      7.800000  \n",
       "max            5.000000     29.500000  "
      ]
     },
     "execution_count": 117,
     "metadata": {},
     "output_type": "execute_result"
    }
   ],
   "source": [
    "# Generate descriptive statistics for numerical columns in the Transaction_data DataFrame.\n",
    "transaction_data_stats = Transaction_data.describe()\n"
   ]
  },
  {
   "cell_type": "code",
   "execution_count": 122,
   "id": "ae043359",
   "metadata": {
    "scrolled": true
   },
   "outputs": [
    {
     "name": "stdout",
     "output_type": "stream",
     "text": [
      "Percentage of outliers for each column:\n",
      "STORE_NUMBER: 0.00%\n",
      "LOYALTY_CARD_NUMBER: 0.02%\n",
      "TRANSACTION_NUMBER: 0.00%\n",
      "PRODUCT_NUMBER: 0.00%\n",
      "PRODUCT_QUANTITY: 0.46%\n",
      "TOTAL_SALES: 0.22%\n"
     ]
    }
   ],
   "source": [
    "\n",
    "# Define a threshold for outlier detection (e.g., z-score > 3 or z-score < -3)\n",
    "threshold = 3\n",
    "\n",
    "# Initialize a dictionary to store the percentage of outliers for each column\n",
    "outliers_percentage = {}\n",
    "\n",
    "# Iterate over each numeric column\n",
    "for column in Transaction_data.select_dtypes(include=['int64', 'float64']):\n",
    "    # Calculate z-scores for the current column\n",
    "    z_scores = zscore(df[column])\n",
    "    \n",
    "    # Find outliers based on the threshold\n",
    "    outliers = Transaction_data[np.abs(z_scores) > threshold]\n",
    "    \n",
    "    # Calculate the percentage of outliers for the current column\n",
    "    percentage = len(outliers) / len(df) * 100\n",
    "    \n",
    "    # Store the percentage of outliers for the current column in the dictionary\n",
    "    outliers_percentage[column] = percentage\n",
    "\n",
    "# Print the percentage of outliers for each column\n",
    "print(\"Percentage of outliers for each column:\")\n",
    "for column, percentage in outliers_percentage.items():\n",
    "    print(f\"{column}: {percentage:.2f}%\")\n"
   ]
  },
  {
   "cell_type": "markdown",
   "id": "06db89e1",
   "metadata": {},
   "source": [
    "There are no nulls in the columns but product quantity appears to have an outlier\n",
    "which we should investigate further."
   ]
  },
  {
   "cell_type": "markdown",
   "id": "eae89489",
   "metadata": {},
   "source": [
    " Let's investigate further the case where 200\n",
    "packets of chips are bought in one transaction.\n"
   ]
  },
  {
   "cell_type": "code",
   "execution_count": 129,
   "id": "b840eaff",
   "metadata": {},
   "outputs": [
    {
     "name": "stdout",
     "output_type": "stream",
     "text": [
      "Transactions where 200 packets of chips are bought:\n",
      "Empty DataFrame\n",
      "Columns: [DATE, STORE_NUMBER, LOYALTY_CARD_NUMBER, TRANSACTION_NUMBER, PRODUCT_NUMBER, PRODUCT_NAME, PRODUCT_QUANTITY, TOTAL_SALES]\n",
      "Index: []\n"
     ]
    }
   ],
   "source": [
    "# Filter the DataFrame for transactions where 200 packets of chips are bought\n",
    "transaction_200_chips = Transaction_data[Transaction_data['PRODUCT_QUANTITY'] == 200]\n",
    "\n",
    "# Display the transactions where 200 packets of chips are bought\n",
    "print(\"Transactions where 200 packets of chips are bought:\")\n",
    "print(transaction_200_chips)\n"
   ]
  },
  {
   "cell_type": "markdown",
   "id": "2d4d31c7",
   "metadata": {},
   "source": [
    "That's better. Now, let's look at the number of transaction lines over time to see\n",
    "if there are any obvious data issues such as missing data"
   ]
  },
  {
   "cell_type": "code",
   "execution_count": 134,
   "id": "bfefb934",
   "metadata": {},
   "outputs": [
    {
     "name": "stdout",
     "output_type": "stream",
     "text": [
      "Number of transactions by date:\n"
     ]
    },
    {
     "data": {
      "text/plain": [
       "DATE\n",
       "2018-07-01    167\n",
       "2018-07-02    194\n",
       "2018-07-03    209\n",
       "2018-07-04    182\n",
       "2018-07-05    213\n",
       "             ... \n",
       "2019-06-26    192\n",
       "2019-06-27    186\n",
       "2019-06-28    234\n",
       "2019-06-29    212\n",
       "2019-06-30    217\n",
       "Length: 364, dtype: int64"
      ]
     },
     "execution_count": 134,
     "metadata": {},
     "output_type": "execute_result"
    }
   ],
   "source": [
    "\n",
    "# Group the DataFrame by 'DATE' and count the number of transactions for each date\n",
    "transactions_by_date = Transaction_data.groupby('DATE').size()\n",
    "\n",
    "# Display the number of transactions by date\n",
    "print(\"Number of transactions by date:\")\n",
    "\n",
    "transactions_by_date"
   ]
  },
  {
   "cell_type": "code",
   "execution_count": 128,
   "id": "83ac8268",
   "metadata": {},
   "outputs": [
    {
     "data": {
      "image/png": "[encoded data removed]",
      "text/plain": [
       "<Figure size 720x432 with 1 Axes>"
      ]
     },
     "metadata": {
      "needs_background": "light"
     },
     "output_type": "display_data"
    }
   ],
   "source": [
    "\n",
    "# Group the DataFrame by 'DATE' and count the number of transaction lines for each date\n",
    "transaction_lines_over_time = Transaction_data.groupby('DATE').size()\n",
    "\n",
    "# Plot the time series graph\n",
    "plt.figure(figsize=(10, 6))\n",
    "transaction_lines_over_time.plot()\n",
    "plt.title('Number of Transaction Lines Over Time')\n",
    "plt.xlabel('Date')\n",
    "plt.ylabel('Number of Transaction Lines')\n",
    "plt.grid(True)\n",
    "plt.show()\n"
   ]
  },
  {
   "cell_type": "markdown",
   "id": "f6ff0dbe",
   "metadata": {},
   "source": [
    "We can see that there is an increase in purchases in December and a break in late\n",
    "December. Let's zoom in on this."
   ]
  },
  {
   "cell_type": "markdown",
   "id": "86efa79a",
   "metadata": {},
   "source": [
    "There's only 364 rows, meaning only 364 dates which indicates a missing date. Let's\n",
    "create a sequence of dates from 1 Jul 2018 to 30 Jun 2019 and use this to create a\n",
    "chart of number of transactions over time to find the missing date."
   ]
  },
  {
   "cell_type": "code",
   "execution_count": 137,
   "id": "583ba1ed",
   "metadata": {},
   "outputs": [
    {
     "name": "stdout",
     "output_type": "stream",
     "text": [
      "Sequence of dates joined with count of transactions by date:\n"
     ]
    },
    {
     "data": {
      "text/html": [
       "<div>\n",
       "<style scoped>\n",
       "    .dataframe tbody tr th:only-of-type {\n",
       "        vertical-align: middle;\n",
       "    }\n",
       "\n",
       "    .dataframe tbody tr th {\n",
       "        vertical-align: top;\n",
       "    }\n",
       "\n",
       "    .dataframe thead th {\n",
       "        text-align: right;\n",
       "    }\n",
       "</style>\n",
       "<table border=\"1\" class=\"dataframe\">\n",
       "  <thead>\n",
       "    <tr style=\"text-align: right;\">\n",
       "      <th></th>\n",
       "      <th>DATE</th>\n",
       "      <th>TRANSACTION_COUNT</th>\n",
       "    </tr>\n",
       "  </thead>\n",
       "  <tbody>\n",
       "    <tr>\n",
       "      <th>0</th>\n",
       "      <td>2018-07-01</td>\n",
       "      <td>167.0</td>\n",
       "    </tr>\n",
       "    <tr>\n",
       "      <th>1</th>\n",
       "      <td>2018-07-02</td>\n",
       "      <td>194.0</td>\n",
       "    </tr>\n",
       "    <tr>\n",
       "      <th>2</th>\n",
       "      <td>2018-07-03</td>\n",
       "      <td>209.0</td>\n",
       "    </tr>\n",
       "    <tr>\n",
       "      <th>3</th>\n",
       "      <td>2018-07-04</td>\n",
       "      <td>182.0</td>\n",
       "    </tr>\n",
       "    <tr>\n",
       "      <th>4</th>\n",
       "      <td>2018-07-05</td>\n",
       "      <td>213.0</td>\n",
       "    </tr>\n",
       "    <tr>\n",
       "      <th>...</th>\n",
       "      <td>...</td>\n",
       "      <td>...</td>\n",
       "    </tr>\n",
       "    <tr>\n",
       "      <th>360</th>\n",
       "      <td>2019-06-26</td>\n",
       "      <td>192.0</td>\n",
       "    </tr>\n",
       "    <tr>\n",
       "      <th>361</th>\n",
       "      <td>2019-06-27</td>\n",
       "      <td>186.0</td>\n",
       "    </tr>\n",
       "    <tr>\n",
       "      <th>362</th>\n",
       "      <td>2019-06-28</td>\n",
       "      <td>234.0</td>\n",
       "    </tr>\n",
       "    <tr>\n",
       "      <th>363</th>\n",
       "      <td>2019-06-29</td>\n",
       "      <td>212.0</td>\n",
       "    </tr>\n",
       "    <tr>\n",
       "      <th>364</th>\n",
       "      <td>2019-06-30</td>\n",
       "      <td>217.0</td>\n",
       "    </tr>\n",
       "  </tbody>\n",
       "</table>\n",
       "<p>365 rows × 2 columns</p>\n",
       "</div>"
      ],
      "text/plain": [
       "          DATE  TRANSACTION_COUNT\n",
       "0   2018-07-01              167.0\n",
       "1   2018-07-02              194.0\n",
       "2   2018-07-03              209.0\n",
       "3   2018-07-04              182.0\n",
       "4   2018-07-05              213.0\n",
       "..         ...                ...\n",
       "360 2019-06-26              192.0\n",
       "361 2019-06-27              186.0\n",
       "362 2019-06-28              234.0\n",
       "363 2019-06-29              212.0\n",
       "364 2019-06-30              217.0\n",
       "\n",
       "[365 rows x 2 columns]"
      ]
     },
     "execution_count": 137,
     "metadata": {},
     "output_type": "execute_result"
    }
   ],
   "source": [
    "\n",
    "# Create a sequence of dates spanning the entire period covered by the transaction data\n",
    "date_range = pd.date_range(start=Transaction_data['DATE'].min(), end=Transaction_data['DATE'].max(), freq='D')\n",
    "\n",
    "# Create a DataFrame for the sequence of dates\n",
    "date_df = pd.DataFrame({'DATE': date_range})\n",
    "\n",
    "# Left join the sequence of dates with the count of transactions by date\n",
    "joined_data = pd.merge(date_df, transactions_by_date, on='DATE', how='left')\n",
    "\n",
    "# Fill missing values with 0 (indicating no transactions for that date)\n",
    "joined_data['TRANSACTION_COUNT'] = joined_data['TRANSACTION_COUNT'].fillna(0)\n",
    "\n",
    "# Display the joined data\n",
    "print(\"Sequence of dates joined with count of transactions by date:\")\n",
    "joined_data\n"
   ]
  },
  {
   "cell_type": "code",
   "execution_count": 138,
   "id": "aaa044ee",
   "metadata": {},
   "outputs": [
    {
     "data": {
      "image/png": "[encoded data removed]",
      "text/plain": [
       "<Figure size 720x432 with 1 Axes>"
      ]
     },
     "metadata": {},
     "output_type": "display_data"
    }
   ],
   "source": [
    "# Set seaborn style\n",
    "sns.set_style(\"whitegrid\")\n",
    "sns.set_context(\"notebook\")\n",
    "\n",
    "# Plot\n",
    "plt.figure(figsize=(10, 6))\n",
    "sns.lineplot(x='DATE', y='TRANSACTION_COUNT', data=joined_data, marker='o', markersize=8, color='blue')\n",
    "plt.title('Transaction Count Over Time', fontsize=16)\n",
    "plt.xlabel('Date', fontsize=12)\n",
    "plt.ylabel('Transaction Count', fontsize=12)\n",
    "plt.xticks(fontsize=10, rotation=45)  # Rotate x-axis labels for better readability\n",
    "plt.yticks(fontsize=10)\n",
    "plt.grid(True)\n",
    "plt.show()"
   ]
  },
  {
   "cell_type": "code",
   "execution_count": 139,
   "id": "094a2914",
   "metadata": {},
   "outputs": [
    {
     "data": {
      "image/png": "[encoded data removed]",
      "text/plain": [
       "<Figure size 720x432 with 1 Axes>"
      ]
     },
     "metadata": {},
     "output_type": "display_data"
    }
   ],
   "source": [
    "# Filter data for December dates\n",
    "december_data = joined_data[(joined_data['DATE'].dt.month == 12)]\n",
    "\n",
    "# Plot transaction count for each day in December\n",
    "plt.figure(figsize=(10, 6))\n",
    "sns.lineplot(x='DATE', y='TRANSACTION_COUNT', data=december_data, marker='o', markersize=8, color='blue')\n",
    "plt.title('Transaction Count in December', fontsize=16)\n",
    "plt.xlabel('Date', fontsize=12)\n",
    "plt.ylabel('Transaction Count', fontsize=12)\n",
    "plt.xticks(fontsize=10, rotation=45)  # Rotate x-axis labels for better readability\n",
    "plt.yticks(fontsize=10)\n",
    "plt.grid(True)\n",
    "plt.show()\n"
   ]
  },
  {
   "cell_type": "markdown",
   "id": "4e431528",
   "metadata": {},
   "source": [
    "We can see that the increase in sales occurs in the lead-up to Christmas and that\n",
    "there are zero sales on Christmas day itself. This is due to shops being closed on\n",
    "Christmas day."
   ]
  },
  {
   "cell_type": "markdown",
   "id": "02c86c80",
   "metadata": {},
   "source": [
    "Now that we are satisfied that the data no longer has outliers, we can move on to\n",
    "creating other features such as brand of chips or pack size from PRODUCT_NAME. We will\n",
    "start with pack size.\n"
   ]
  },
  {
   "cell_type": "code",
   "execution_count": 195,
   "id": "325187c1",
   "metadata": {},
   "outputs": [
    {
     "name": "stdout",
     "output_type": "stream",
     "text": [
      "110     9693\n",
      "150     6376\n",
      "160     2970\n",
      "170    15413\n",
      "175    29215\n",
      "200     4473\n",
      "330     3197\n",
      "380     3233\n",
      "Name: PACK_SIZE, dtype: int64\n"
     ]
    }
   ],
   "source": [
    "\n",
    "# Extract pack size using regular expressions\n",
    "Transaction_data['PACK_SIZE'] = Transaction_data['PRODUCT_NAME'].str.extract(r'(\\d+)')\n",
    "\n",
    "# Count occurrences of each unique pack size\n",
    "pack_size_counts = Transaction_data['PACK_SIZE'].value_counts().sort_index()\n",
    "\n",
    "# Display pack size counts\n",
    "print(pack_size_counts)\n"
   ]
  },
  {
   "cell_type": "code",
   "execution_count": null,
   "id": "8d991ea4",
   "metadata": {},
   "outputs": [],
   "source": []
  },
  {
   "cell_type": "markdown",
   "id": "99603944",
   "metadata": {},
   "source": [
    "The largest size is 380g and the smallest size is 110g - seems sensible!\n"
   ]
  },
  {
   "cell_type": "markdown",
   "id": "1d6a069d",
   "metadata": {},
   "source": [
    "Let's plot a histogram of PACK_SIZE since we know that it is a categorical\n",
    "variable and not a continuous variable even though it is numeric."
   ]
  },
  {
   "cell_type": "code",
   "execution_count": 150,
   "id": "713e4b41",
   "metadata": {
    "scrolled": false
   },
   "outputs": [
    {
     "data": {
      "image/png": "[encoded data removed]",
      "text/plain": [
       "<Figure size 720x432 with 1 Axes>"
      ]
     },
     "metadata": {},
     "output_type": "display_data"
    }
   ],
   "source": [
    "\n",
    "# Plot histogram\n",
    "plt.figure(figsize=(10, 6))\n",
    "plt.hist(Transaction_data['PACK_SIZE'], bins=20, color='skyblue', edgecolor='black')\n",
    "plt.title('Histogram of Pack Size')\n",
    "plt.xlabel('Pack Size')\n",
    "plt.ylabel('Number of Transactions')\n",
    "plt.grid(True)\n",
    "plt.show()\n"
   ]
  },
  {
   "cell_type": "code",
   "execution_count": 171,
   "id": "9f21a1a9",
   "metadata": {
    "scrolled": true
   },
   "outputs": [
    {
     "data": {
      "text/html": [
       "<div>\n",
       "<style scoped>\n",
       "    .dataframe tbody tr th:only-of-type {\n",
       "        vertical-align: middle;\n",
       "    }\n",
       "\n",
       "    .dataframe tbody tr th {\n",
       "        vertical-align: top;\n",
       "    }\n",
       "\n",
       "    .dataframe thead th {\n",
       "        text-align: right;\n",
       "    }\n",
       "</style>\n",
       "<table border=\"1\" class=\"dataframe\">\n",
       "  <thead>\n",
       "    <tr style=\"text-align: right;\">\n",
       "      <th></th>\n",
       "      <th>DATE</th>\n",
       "      <th>STORE_NUMBER</th>\n",
       "      <th>LOYALTY_CARD_NUMBER</th>\n",
       "      <th>TRANSACTION_NUMBER</th>\n",
       "      <th>PRODUCT_NUMBER</th>\n",
       "      <th>PRODUCT_NAME</th>\n",
       "      <th>PRODUCT_QUANTITY</th>\n",
       "      <th>TOTAL_SALES</th>\n",
       "      <th>PACK_SIZE</th>\n",
       "      <th>BRAND</th>\n",
       "    </tr>\n",
       "  </thead>\n",
       "  <tbody>\n",
       "    <tr>\n",
       "      <th>0</th>\n",
       "      <td>2018-10-17</td>\n",
       "      <td>1</td>\n",
       "      <td>1000</td>\n",
       "      <td>1</td>\n",
       "      <td>5</td>\n",
       "      <td>Natural Chip        Compny SeaSalt175g</td>\n",
       "      <td>2</td>\n",
       "      <td>6.0</td>\n",
       "      <td>175</td>\n",
       "      <td>Natural</td>\n",
       "    </tr>\n",
       "    <tr>\n",
       "      <th>2</th>\n",
       "      <td>2019-05-20</td>\n",
       "      <td>1</td>\n",
       "      <td>1343</td>\n",
       "      <td>383</td>\n",
       "      <td>61</td>\n",
       "      <td>Smiths Crinkle Cut  Chips Chicken 170g</td>\n",
       "      <td>2</td>\n",
       "      <td>2.9</td>\n",
       "      <td>170</td>\n",
       "      <td>Smiths</td>\n",
       "    </tr>\n",
       "    <tr>\n",
       "      <th>3</th>\n",
       "      <td>2018-08-17</td>\n",
       "      <td>2</td>\n",
       "      <td>2373</td>\n",
       "      <td>974</td>\n",
       "      <td>69</td>\n",
       "      <td>Smiths Chip Thinly  S/Cream&amp;Onion 175g</td>\n",
       "      <td>5</td>\n",
       "      <td>15.0</td>\n",
       "      <td>175</td>\n",
       "      <td>Smiths</td>\n",
       "    </tr>\n",
       "    <tr>\n",
       "      <th>6</th>\n",
       "      <td>2019-05-16</td>\n",
       "      <td>4</td>\n",
       "      <td>4149</td>\n",
       "      <td>3333</td>\n",
       "      <td>16</td>\n",
       "      <td>Smiths Crinkle Chips Salt &amp; Vinegar 330g</td>\n",
       "      <td>1</td>\n",
       "      <td>5.7</td>\n",
       "      <td>330</td>\n",
       "      <td>Smiths</td>\n",
       "    </tr>\n",
       "    <tr>\n",
       "      <th>8</th>\n",
       "      <td>2018-08-20</td>\n",
       "      <td>5</td>\n",
       "      <td>5026</td>\n",
       "      <td>4525</td>\n",
       "      <td>42</td>\n",
       "      <td>Doritos Corn Chip Mexican Jalapeno 150g</td>\n",
       "      <td>1</td>\n",
       "      <td>3.9</td>\n",
       "      <td>150</td>\n",
       "      <td>Doritos</td>\n",
       "    </tr>\n",
       "  </tbody>\n",
       "</table>\n",
       "</div>"
      ],
      "text/plain": [
       "        DATE  STORE_NUMBER  LOYALTY_CARD_NUMBER  TRANSACTION_NUMBER  \\\n",
       "0 2018-10-17             1                 1000                   1   \n",
       "2 2019-05-20             1                 1343                 383   \n",
       "3 2018-08-17             2                 2373                 974   \n",
       "6 2019-05-16             4                 4149                3333   \n",
       "8 2018-08-20             5                 5026                4525   \n",
       "\n",
       "   PRODUCT_NUMBER                              PRODUCT_NAME  PRODUCT_QUANTITY  \\\n",
       "0               5    Natural Chip        Compny SeaSalt175g                 2   \n",
       "2              61    Smiths Crinkle Cut  Chips Chicken 170g                 2   \n",
       "3              69    Smiths Chip Thinly  S/Cream&Onion 175g                 5   \n",
       "6              16  Smiths Crinkle Chips Salt & Vinegar 330g                 1   \n",
       "8              42   Doritos Corn Chip Mexican Jalapeno 150g                 1   \n",
       "\n",
       "   TOTAL_SALES PACK_SIZE    BRAND  \n",
       "0          6.0       175  Natural  \n",
       "2          2.9       170   Smiths  \n",
       "3         15.0       175   Smiths  \n",
       "6          5.7       330   Smiths  \n",
       "8          3.9       150  Doritos  "
      ]
     },
     "execution_count": 171,
     "metadata": {},
     "output_type": "execute_result"
    }
   ],
   "source": [
    "# Extract brand from product name\n",
    "Transaction_data['BRAND'] = Transaction_data['PRODUCT_NAME'].str.split().str[0]\n",
    "\n",
    "# Display DataFrame\n",
    "Transaction_data.head()"
   ]
  },
  {
   "cell_type": "code",
   "execution_count": null,
   "id": "7787be04",
   "metadata": {},
   "outputs": [],
   "source": []
  },
  {
   "cell_type": "markdown",
   "id": "ea594238",
   "metadata": {},
   "source": [
    "# Examining QVI_purchase_behaviour"
   ]
  },
  {
   "cell_type": "code",
   "execution_count": 177,
   "id": "be498eda",
   "metadata": {},
   "outputs": [],
   "source": [
    "# Read the purchase behavior data from a CSV file named 'QVI_purchase_behaviour.csv' into a pandas DataFrame.\n",
    "Purchase_data = pd.read_csv('QVI_purchase_behaviour.csv')\n"
   ]
  },
  {
   "cell_type": "code",
   "execution_count": 178,
   "id": "cb6bedc1",
   "metadata": {},
   "outputs": [
    {
     "data": {
      "text/html": [
       "<div>\n",
       "<style scoped>\n",
       "    .dataframe tbody tr th:only-of-type {\n",
       "        vertical-align: middle;\n",
       "    }\n",
       "\n",
       "    .dataframe tbody tr th {\n",
       "        vertical-align: top;\n",
       "    }\n",
       "\n",
       "    .dataframe thead th {\n",
       "        text-align: right;\n",
       "    }\n",
       "</style>\n",
       "<table border=\"1\" class=\"dataframe\">\n",
       "  <thead>\n",
       "    <tr style=\"text-align: right;\">\n",
       "      <th></th>\n",
       "      <th>LYLTY_CARD_NBR</th>\n",
       "      <th>LIFESTAGE</th>\n",
       "      <th>PREMIUM_CUSTOMER</th>\n",
       "    </tr>\n",
       "  </thead>\n",
       "  <tbody>\n",
       "    <tr>\n",
       "      <th>0</th>\n",
       "      <td>1000</td>\n",
       "      <td>YOUNG SINGLES/COUPLES</td>\n",
       "      <td>Premium</td>\n",
       "    </tr>\n",
       "    <tr>\n",
       "      <th>1</th>\n",
       "      <td>1002</td>\n",
       "      <td>YOUNG SINGLES/COUPLES</td>\n",
       "      <td>Mainstream</td>\n",
       "    </tr>\n",
       "    <tr>\n",
       "      <th>2</th>\n",
       "      <td>1003</td>\n",
       "      <td>YOUNG FAMILIES</td>\n",
       "      <td>Budget</td>\n",
       "    </tr>\n",
       "    <tr>\n",
       "      <th>3</th>\n",
       "      <td>1004</td>\n",
       "      <td>OLDER SINGLES/COUPLES</td>\n",
       "      <td>Mainstream</td>\n",
       "    </tr>\n",
       "    <tr>\n",
       "      <th>4</th>\n",
       "      <td>1005</td>\n",
       "      <td>MIDAGE SINGLES/COUPLES</td>\n",
       "      <td>Mainstream</td>\n",
       "    </tr>\n",
       "  </tbody>\n",
       "</table>\n",
       "</div>"
      ],
      "text/plain": [
       "   LYLTY_CARD_NBR               LIFESTAGE PREMIUM_CUSTOMER\n",
       "0            1000   YOUNG SINGLES/COUPLES          Premium\n",
       "1            1002   YOUNG SINGLES/COUPLES       Mainstream\n",
       "2            1003          YOUNG FAMILIES           Budget\n",
       "3            1004   OLDER SINGLES/COUPLES       Mainstream\n",
       "4            1005  MIDAGE SINGLES/COUPLES       Mainstream"
      ]
     },
     "execution_count": 178,
     "metadata": {},
     "output_type": "execute_result"
    }
   ],
   "source": [
    "# Display the first few rows of the Purchase_data DataFrame to get an initial overview of the data.\n",
    "Purchase_data.head()\n"
   ]
  },
  {
   "cell_type": "code",
   "execution_count": 101,
   "id": "d5461d0d",
   "metadata": {},
   "outputs": [
    {
     "name": "stdout",
     "output_type": "stream",
     "text": [
      "<class 'pandas.core.frame.DataFrame'>\n",
      "Int64Index: 72637 entries, 0 to 72636\n",
      "Data columns (total 3 columns):\n",
      " #   Column               Non-Null Count  Dtype \n",
      "---  ------               --------------  ----- \n",
      " 0   LOYALTY_CARD_NUMBER  72637 non-null  int64 \n",
      " 1   LIFESTAGE            72637 non-null  object\n",
      " 2   PREMIUM_CUSTOMER     72637 non-null  object\n",
      "dtypes: int64(1), object(2)\n",
      "memory usage: 2.2+ MB\n"
     ]
    }
   ],
   "source": [
    "# Display concise summary information about the Purchase_behaviour DataFrame.\n",
    "Purchase_behaviour.info()\n"
   ]
  },
  {
   "cell_type": "code",
   "execution_count": 180,
   "id": "ca1859cb",
   "metadata": {},
   "outputs": [
    {
     "name": "stdout",
     "output_type": "stream",
     "text": [
      "Missing Data:\n",
      "LYLTY_CARD_NBR      0\n",
      "LIFESTAGE           0\n",
      "PREMIUM_CUSTOMER    0\n",
      "dtype: int64\n"
     ]
    }
   ],
   "source": [
    "# Calculate the number of missing values in each column of the Purchase_data DataFrame.\n",
    "missing_data = Purchase_data.isnull().sum()\n",
    "\n",
    "# Print the count of missing data for each column, with a newline separating each column's count.\n",
    "print(f\"Missing Data:\\n{missing_data}\")\n"
   ]
  },
  {
   "cell_type": "code",
   "execution_count": 182,
   "id": "42cd18e5",
   "metadata": {},
   "outputs": [
    {
     "name": "stdout",
     "output_type": "stream",
     "text": [
      "No duplicate values in the row.\n"
     ]
    }
   ],
   "source": [
    "# Check for duplicates in the first row\n",
    "duplicates_in_row = Purchase_data.columns[Purchase_data.iloc[0].duplicated()]\n",
    "\n",
    "# Printing columns with duplicate values\n",
    "if len(duplicates_in_row) > 0:\n",
    "    print(\"Duplicate values exist in the following columns:\")\n",
    "    print(duplicates_in_row)\n",
    "else:\n",
    "    print(\"No duplicate values in the row.\")\n"
   ]
  },
  {
   "cell_type": "code",
   "execution_count": 183,
   "id": "2e13aa96",
   "metadata": {},
   "outputs": [],
   "source": [
    "# Drop duplicate rows from the Purchase_data DataFrame and modify it in place.\n",
    "Purchase_data.drop_duplicates(inplace=True)\n"
   ]
  },
  {
   "cell_type": "code",
   "execution_count": 184,
   "id": "c44f878c",
   "metadata": {},
   "outputs": [],
   "source": [
    "# Rename the column 'LYLTY_CARD_NBR' to 'LOYALTY_CARD_NUMBER' in the Purchase_data DataFrame.\n",
    "# This is done to standardize column names and improve clarity.\n",
    "Purchase_data.rename(columns={'LYLTY_CARD_NBR': 'LOYALTY_CARD_NUMBER'}, inplace=True)\n"
   ]
  },
  {
   "cell_type": "code",
   "execution_count": 185,
   "id": "e4eb30f9",
   "metadata": {},
   "outputs": [
    {
     "data": {
      "text/html": [
       "<div>\n",
       "<style scoped>\n",
       "    .dataframe tbody tr th:only-of-type {\n",
       "        vertical-align: middle;\n",
       "    }\n",
       "\n",
       "    .dataframe tbody tr th {\n",
       "        vertical-align: top;\n",
       "    }\n",
       "\n",
       "    .dataframe thead th {\n",
       "        text-align: right;\n",
       "    }\n",
       "</style>\n",
       "<table border=\"1\" class=\"dataframe\">\n",
       "  <thead>\n",
       "    <tr style=\"text-align: right;\">\n",
       "      <th></th>\n",
       "      <th>LOYALTY_CARD_NUMBER</th>\n",
       "    </tr>\n",
       "  </thead>\n",
       "  <tbody>\n",
       "    <tr>\n",
       "      <th>count</th>\n",
       "      <td>7.263700e+04</td>\n",
       "    </tr>\n",
       "    <tr>\n",
       "      <th>mean</th>\n",
       "      <td>1.361859e+05</td>\n",
       "    </tr>\n",
       "    <tr>\n",
       "      <th>std</th>\n",
       "      <td>8.989293e+04</td>\n",
       "    </tr>\n",
       "    <tr>\n",
       "      <th>min</th>\n",
       "      <td>1.000000e+03</td>\n",
       "    </tr>\n",
       "    <tr>\n",
       "      <th>25%</th>\n",
       "      <td>6.620200e+04</td>\n",
       "    </tr>\n",
       "    <tr>\n",
       "      <th>50%</th>\n",
       "      <td>1.340400e+05</td>\n",
       "    </tr>\n",
       "    <tr>\n",
       "      <th>75%</th>\n",
       "      <td>2.033750e+05</td>\n",
       "    </tr>\n",
       "    <tr>\n",
       "      <th>max</th>\n",
       "      <td>2.373711e+06</td>\n",
       "    </tr>\n",
       "  </tbody>\n",
       "</table>\n",
       "</div>"
      ],
      "text/plain": [
       "       LOYALTY_CARD_NUMBER\n",
       "count         7.263700e+04\n",
       "mean          1.361859e+05\n",
       "std           8.989293e+04\n",
       "min           1.000000e+03\n",
       "25%           6.620200e+04\n",
       "50%           1.340400e+05\n",
       "75%           2.033750e+05\n",
       "max           2.373711e+06"
      ]
     },
     "execution_count": 185,
     "metadata": {},
     "output_type": "execute_result"
    }
   ],
   "source": [
    "# Generate descriptive statistics for numerical columns in the Purchase_data DataFrame.\n",
    "purchase_data_stats = Purchase_data.describe()\n"
   ]
  },
  {
   "cell_type": "code",
   "execution_count": 188,
   "id": "8d89f962",
   "metadata": {},
   "outputs": [
    {
     "data": {
      "text/html": [
       "<div>\n",
       "<style scoped>\n",
       "    .dataframe tbody tr th:only-of-type {\n",
       "        vertical-align: middle;\n",
       "    }\n",
       "\n",
       "    .dataframe tbody tr th {\n",
       "        vertical-align: top;\n",
       "    }\n",
       "\n",
       "    .dataframe thead th {\n",
       "        text-align: right;\n",
       "    }\n",
       "</style>\n",
       "<table border=\"1\" class=\"dataframe\">\n",
       "  <thead>\n",
       "    <tr style=\"text-align: right;\">\n",
       "      <th></th>\n",
       "      <th>DATE</th>\n",
       "      <th>STORE_NUMBER</th>\n",
       "      <th>LOYALTY_CARD_NUMBER</th>\n",
       "      <th>TRANSACTION_NUMBER</th>\n",
       "      <th>PRODUCT_NUMBER</th>\n",
       "      <th>PRODUCT_NAME</th>\n",
       "      <th>PRODUCT_QUANTITY</th>\n",
       "      <th>TOTAL_SALES</th>\n",
       "      <th>PACK_SIZE</th>\n",
       "      <th>BRAND</th>\n",
       "      <th>LIFESTAGE</th>\n",
       "      <th>PREMIUM_CUSTOMER</th>\n",
       "    </tr>\n",
       "  </thead>\n",
       "  <tbody>\n",
       "    <tr>\n",
       "      <th>0</th>\n",
       "      <td>2018-10-17</td>\n",
       "      <td>1</td>\n",
       "      <td>1000</td>\n",
       "      <td>1</td>\n",
       "      <td>5</td>\n",
       "      <td>Natural Chip        Compny SeaSalt175g</td>\n",
       "      <td>2</td>\n",
       "      <td>6.0</td>\n",
       "      <td>175</td>\n",
       "      <td>Natural</td>\n",
       "      <td>YOUNG SINGLES/COUPLES</td>\n",
       "      <td>Premium</td>\n",
       "    </tr>\n",
       "    <tr>\n",
       "      <th>1</th>\n",
       "      <td>2019-05-20</td>\n",
       "      <td>1</td>\n",
       "      <td>1343</td>\n",
       "      <td>383</td>\n",
       "      <td>61</td>\n",
       "      <td>Smiths Crinkle Cut  Chips Chicken 170g</td>\n",
       "      <td>2</td>\n",
       "      <td>2.9</td>\n",
       "      <td>170</td>\n",
       "      <td>Smiths</td>\n",
       "      <td>MIDAGE SINGLES/COUPLES</td>\n",
       "      <td>Budget</td>\n",
       "    </tr>\n",
       "    <tr>\n",
       "      <th>2</th>\n",
       "      <td>2018-08-17</td>\n",
       "      <td>2</td>\n",
       "      <td>2373</td>\n",
       "      <td>974</td>\n",
       "      <td>69</td>\n",
       "      <td>Smiths Chip Thinly  S/Cream&amp;Onion 175g</td>\n",
       "      <td>5</td>\n",
       "      <td>15.0</td>\n",
       "      <td>175</td>\n",
       "      <td>Smiths</td>\n",
       "      <td>MIDAGE SINGLES/COUPLES</td>\n",
       "      <td>Budget</td>\n",
       "    </tr>\n",
       "    <tr>\n",
       "      <th>3</th>\n",
       "      <td>2019-05-16</td>\n",
       "      <td>4</td>\n",
       "      <td>4149</td>\n",
       "      <td>3333</td>\n",
       "      <td>16</td>\n",
       "      <td>Smiths Crinkle Chips Salt &amp; Vinegar 330g</td>\n",
       "      <td>1</td>\n",
       "      <td>5.7</td>\n",
       "      <td>330</td>\n",
       "      <td>Smiths</td>\n",
       "      <td>MIDAGE SINGLES/COUPLES</td>\n",
       "      <td>Budget</td>\n",
       "    </tr>\n",
       "    <tr>\n",
       "      <th>4</th>\n",
       "      <td>2018-08-20</td>\n",
       "      <td>5</td>\n",
       "      <td>5026</td>\n",
       "      <td>4525</td>\n",
       "      <td>42</td>\n",
       "      <td>Doritos Corn Chip Mexican Jalapeno 150g</td>\n",
       "      <td>1</td>\n",
       "      <td>3.9</td>\n",
       "      <td>150</td>\n",
       "      <td>Doritos</td>\n",
       "      <td>MIDAGE SINGLES/COUPLES</td>\n",
       "      <td>Budget</td>\n",
       "    </tr>\n",
       "  </tbody>\n",
       "</table>\n",
       "</div>"
      ],
      "text/plain": [
       "        DATE  STORE_NUMBER  LOYALTY_CARD_NUMBER  TRANSACTION_NUMBER  \\\n",
       "0 2018-10-17             1                 1000                   1   \n",
       "1 2019-05-20             1                 1343                 383   \n",
       "2 2018-08-17             2                 2373                 974   \n",
       "3 2019-05-16             4                 4149                3333   \n",
       "4 2018-08-20             5                 5026                4525   \n",
       "\n",
       "   PRODUCT_NUMBER                              PRODUCT_NAME  PRODUCT_QUANTITY  \\\n",
       "0               5    Natural Chip        Compny SeaSalt175g                 2   \n",
       "1              61    Smiths Crinkle Cut  Chips Chicken 170g                 2   \n",
       "2              69    Smiths Chip Thinly  S/Cream&Onion 175g                 5   \n",
       "3              16  Smiths Crinkle Chips Salt & Vinegar 330g                 1   \n",
       "4              42   Doritos Corn Chip Mexican Jalapeno 150g                 1   \n",
       "\n",
       "   TOTAL_SALES PACK_SIZE    BRAND               LIFESTAGE PREMIUM_CUSTOMER  \n",
       "0          6.0       175  Natural   YOUNG SINGLES/COUPLES          Premium  \n",
       "1          2.9       170   Smiths  MIDAGE SINGLES/COUPLES           Budget  \n",
       "2         15.0       175   Smiths  MIDAGE SINGLES/COUPLES           Budget  \n",
       "3          5.7       330   Smiths  MIDAGE SINGLES/COUPLES           Budget  \n",
       "4          3.9       150  Doritos  MIDAGE SINGLES/COUPLES           Budget  "
      ]
     },
     "execution_count": 188,
     "metadata": {},
     "output_type": "execute_result"
    }
   ],
   "source": [
    "# Merge the Transaction_data and Purchase_data DataFrames using a left join and store the result in merged_data.\n",
    "merged_data = pd.merge(Transaction_data, Purchase_data, how='left')\n",
    "\n",
    "# Display the first few rows of the merged DataFrame to examine the merged data.\n",
    "merged_data.head()\n"
   ]
  },
  {
   "cell_type": "code",
   "execution_count": 189,
   "id": "e3e7b573",
   "metadata": {},
   "outputs": [
    {
     "name": "stdout",
     "output_type": "stream",
     "text": [
      "Empty DataFrame\n",
      "Columns: [DATE, STORE_NUMBER, LOYALTY_CARD_NUMBER, TRANSACTION_NUMBER, PRODUCT_NUMBER, PRODUCT_NAME, PRODUCT_QUANTITY, TOTAL_SALES, PACK_SIZE, BRAND, LIFESTAGE, PREMIUM_CUSTOMER]\n",
      "Index: []\n"
     ]
    }
   ],
   "source": [
    "# Check for null values in the merged DataFrame\n",
    "unmatched_customers = merged_data[merged_data['LOYALTY_CARD_NUMBER'].isnull()]\n",
    "\n",
    "# Display unmatched customers\n",
    "print(unmatched_customers)\n"
   ]
  },
  {
   "cell_type": "code",
   "execution_count": 196,
   "id": "254a2c25",
   "metadata": {},
   "outputs": [],
   "source": [
    "# Save the merged dataset as a CSV file named 'merged_data.csv' without including the index column.\n",
    "merged_data.to_csv('merged_data.csv', index=False)\n"
   ]
  },
  {
   "cell_type": "markdown",
   "id": "b2dada15",
   "metadata": {},
   "source": [
    "# "
   ]
  },
  {
   "cell_type": "markdown",
   "id": "3881f02a",
   "metadata": {},
   "source": [
    "# ------------------------------------------'TASK2'--------------------------------------"
   ]
  },
  {
   "cell_type": "markdown",
   "id": "9b4b0aa7",
   "metadata": {},
   "source": [
    "# Data analysis on customer segments\n"
   ]
  },
  {
   "cell_type": "markdown",
   "id": "15217db4",
   "metadata": {},
   "source": [
    "Now that the data is ready for analysis, we can define some metrics of interest to\n",
    "the client:\n"
   ]
  },
  {
   "cell_type": "markdown",
   "id": "3b73ba06",
   "metadata": {},
   "source": [
    "     • Who spends the most on chips (total sales), describing customers by lifestage and how premium their general purchasing behaviour is \n",
    "\n",
    "    • How many customers are in each segment\n",
    "\n",
    "    • How many chips are bought per customer by segment\n",
    "\n",
    "    • What’s the average chip price by customer segment\n",
    "\n",
    "We could also ask our data team for more information. Examples are:\n",
    "\n",
    "\n",
    "    • The customer’s total spend over the period and total spend for each transaction to understand whatproportion of their grocery spend is on chips\n",
    "\n",
    "    • Proportion of customers in each customer segment overall to compare against the mix of customerswho purchase chips\n",
    "\n",
    "Let’s start with calculating total sales by LIFESTAGE and PREMIUM_CUSTOMER and plotting the split by\n",
    "these segments to describe which customer segment contribute most to chip sales."
   ]
  },
  {
   "cell_type": "code",
   "execution_count": 199,
   "id": "facbde41",
   "metadata": {},
   "outputs": [
    {
     "data": {
      "text/html": [
       "<div>\n",
       "<style scoped>\n",
       "    .dataframe tbody tr th:only-of-type {\n",
       "        vertical-align: middle;\n",
       "    }\n",
       "\n",
       "    .dataframe tbody tr th {\n",
       "        vertical-align: top;\n",
       "    }\n",
       "\n",
       "    .dataframe thead th {\n",
       "        text-align: right;\n",
       "    }\n",
       "</style>\n",
       "<table border=\"1\" class=\"dataframe\">\n",
       "  <thead>\n",
       "    <tr style=\"text-align: right;\">\n",
       "      <th></th>\n",
       "      <th>DATE</th>\n",
       "      <th>STORE_NUMBER</th>\n",
       "      <th>LOYALTY_CARD_NUMBER</th>\n",
       "      <th>TRANSACTION_NUMBER</th>\n",
       "      <th>PRODUCT_NUMBER</th>\n",
       "      <th>PRODUCT_NAME</th>\n",
       "      <th>PRODUCT_QUANTITY</th>\n",
       "      <th>TOTAL_SALES</th>\n",
       "      <th>PACK_SIZE</th>\n",
       "      <th>BRAND</th>\n",
       "      <th>LIFESTAGE</th>\n",
       "      <th>PREMIUM_CUSTOMER</th>\n",
       "    </tr>\n",
       "  </thead>\n",
       "  <tbody>\n",
       "    <tr>\n",
       "      <th>0</th>\n",
       "      <td>2018-10-17</td>\n",
       "      <td>1</td>\n",
       "      <td>1000</td>\n",
       "      <td>1</td>\n",
       "      <td>5</td>\n",
       "      <td>Natural Chip        Compny SeaSalt175g</td>\n",
       "      <td>2</td>\n",
       "      <td>6.0</td>\n",
       "      <td>175</td>\n",
       "      <td>Natural</td>\n",
       "      <td>YOUNG SINGLES/COUPLES</td>\n",
       "      <td>Premium</td>\n",
       "    </tr>\n",
       "    <tr>\n",
       "      <th>1</th>\n",
       "      <td>2019-05-20</td>\n",
       "      <td>1</td>\n",
       "      <td>1343</td>\n",
       "      <td>383</td>\n",
       "      <td>61</td>\n",
       "      <td>Smiths Crinkle Cut  Chips Chicken 170g</td>\n",
       "      <td>2</td>\n",
       "      <td>2.9</td>\n",
       "      <td>170</td>\n",
       "      <td>Smiths</td>\n",
       "      <td>MIDAGE SINGLES/COUPLES</td>\n",
       "      <td>Budget</td>\n",
       "    </tr>\n",
       "    <tr>\n",
       "      <th>2</th>\n",
       "      <td>2018-08-17</td>\n",
       "      <td>2</td>\n",
       "      <td>2373</td>\n",
       "      <td>974</td>\n",
       "      <td>69</td>\n",
       "      <td>Smiths Chip Thinly  S/Cream&amp;Onion 175g</td>\n",
       "      <td>5</td>\n",
       "      <td>15.0</td>\n",
       "      <td>175</td>\n",
       "      <td>Smiths</td>\n",
       "      <td>MIDAGE SINGLES/COUPLES</td>\n",
       "      <td>Budget</td>\n",
       "    </tr>\n",
       "    <tr>\n",
       "      <th>3</th>\n",
       "      <td>2019-05-16</td>\n",
       "      <td>4</td>\n",
       "      <td>4149</td>\n",
       "      <td>3333</td>\n",
       "      <td>16</td>\n",
       "      <td>Smiths Crinkle Chips Salt &amp; Vinegar 330g</td>\n",
       "      <td>1</td>\n",
       "      <td>5.7</td>\n",
       "      <td>330</td>\n",
       "      <td>Smiths</td>\n",
       "      <td>MIDAGE SINGLES/COUPLES</td>\n",
       "      <td>Budget</td>\n",
       "    </tr>\n",
       "    <tr>\n",
       "      <th>4</th>\n",
       "      <td>2018-08-20</td>\n",
       "      <td>5</td>\n",
       "      <td>5026</td>\n",
       "      <td>4525</td>\n",
       "      <td>42</td>\n",
       "      <td>Doritos Corn Chip Mexican Jalapeno 150g</td>\n",
       "      <td>1</td>\n",
       "      <td>3.9</td>\n",
       "      <td>150</td>\n",
       "      <td>Doritos</td>\n",
       "      <td>MIDAGE SINGLES/COUPLES</td>\n",
       "      <td>Budget</td>\n",
       "    </tr>\n",
       "  </tbody>\n",
       "</table>\n",
       "</div>"
      ],
      "text/plain": [
       "         DATE  STORE_NUMBER  LOYALTY_CARD_NUMBER  TRANSACTION_NUMBER  \\\n",
       "0  2018-10-17             1                 1000                   1   \n",
       "1  2019-05-20             1                 1343                 383   \n",
       "2  2018-08-17             2                 2373                 974   \n",
       "3  2019-05-16             4                 4149                3333   \n",
       "4  2018-08-20             5                 5026                4525   \n",
       "\n",
       "   PRODUCT_NUMBER                              PRODUCT_NAME  PRODUCT_QUANTITY  \\\n",
       "0               5    Natural Chip        Compny SeaSalt175g                 2   \n",
       "1              61    Smiths Crinkle Cut  Chips Chicken 170g                 2   \n",
       "2              69    Smiths Chip Thinly  S/Cream&Onion 175g                 5   \n",
       "3              16  Smiths Crinkle Chips Salt & Vinegar 330g                 1   \n",
       "4              42   Doritos Corn Chip Mexican Jalapeno 150g                 1   \n",
       "\n",
       "   TOTAL_SALES  PACK_SIZE    BRAND               LIFESTAGE PREMIUM_CUSTOMER  \n",
       "0          6.0        175  Natural   YOUNG SINGLES/COUPLES          Premium  \n",
       "1          2.9        170   Smiths  MIDAGE SINGLES/COUPLES           Budget  \n",
       "2         15.0        175   Smiths  MIDAGE SINGLES/COUPLES           Budget  \n",
       "3          5.7        330   Smiths  MIDAGE SINGLES/COUPLES           Budget  \n",
       "4          3.9        150  Doritos  MIDAGE SINGLES/COUPLES           Budget  "
      ]
     },
     "execution_count": 199,
     "metadata": {},
     "output_type": "execute_result"
    }
   ],
   "source": [
    "data=pd.read_csv(\"merged_data.csv\")\n",
    "data.head()"
   ]
  },
  {
   "cell_type": "code",
   "execution_count": 202,
   "id": "529b55ba",
   "metadata": {},
   "outputs": [
    {
     "data": {
      "text/html": [
       "<div>\n",
       "<style scoped>\n",
       "    .dataframe tbody tr th:only-of-type {\n",
       "        vertical-align: middle;\n",
       "    }\n",
       "\n",
       "    .dataframe tbody tr th {\n",
       "        vertical-align: top;\n",
       "    }\n",
       "\n",
       "    .dataframe thead th {\n",
       "        text-align: right;\n",
       "    }\n",
       "</style>\n",
       "<table border=\"1\" class=\"dataframe\">\n",
       "  <thead>\n",
       "    <tr style=\"text-align: right;\">\n",
       "      <th></th>\n",
       "      <th>LIFESTAGE</th>\n",
       "      <th>PREMIUM_CUSTOMER</th>\n",
       "      <th>TOTAL_SALES</th>\n",
       "    </tr>\n",
       "  </thead>\n",
       "  <tbody>\n",
       "    <tr>\n",
       "      <th>0</th>\n",
       "      <td>MIDAGE SINGLES/COUPLES</td>\n",
       "      <td>Budget</td>\n",
       "      <td>9838.3</td>\n",
       "    </tr>\n",
       "    <tr>\n",
       "      <th>1</th>\n",
       "      <td>MIDAGE SINGLES/COUPLES</td>\n",
       "      <td>Mainstream</td>\n",
       "      <td>23950.4</td>\n",
       "    </tr>\n",
       "    <tr>\n",
       "      <th>2</th>\n",
       "      <td>MIDAGE SINGLES/COUPLES</td>\n",
       "      <td>Premium</td>\n",
       "      <td>15349.4</td>\n",
       "    </tr>\n",
       "    <tr>\n",
       "      <th>3</th>\n",
       "      <td>NEW FAMILIES</td>\n",
       "      <td>Budget</td>\n",
       "      <td>5651.4</td>\n",
       "    </tr>\n",
       "    <tr>\n",
       "      <th>4</th>\n",
       "      <td>NEW FAMILIES</td>\n",
       "      <td>Mainstream</td>\n",
       "      <td>4307.1</td>\n",
       "    </tr>\n",
       "    <tr>\n",
       "      <th>5</th>\n",
       "      <td>NEW FAMILIES</td>\n",
       "      <td>Premium</td>\n",
       "      <td>3087.3</td>\n",
       "    </tr>\n",
       "    <tr>\n",
       "      <th>6</th>\n",
       "      <td>OLDER FAMILIES</td>\n",
       "      <td>Budget</td>\n",
       "      <td>44859.2</td>\n",
       "    </tr>\n",
       "    <tr>\n",
       "      <th>7</th>\n",
       "      <td>OLDER FAMILIES</td>\n",
       "      <td>Mainstream</td>\n",
       "      <td>28298.5</td>\n",
       "    </tr>\n",
       "    <tr>\n",
       "      <th>8</th>\n",
       "      <td>OLDER FAMILIES</td>\n",
       "      <td>Premium</td>\n",
       "      <td>21256.1</td>\n",
       "    </tr>\n",
       "    <tr>\n",
       "      <th>9</th>\n",
       "      <td>OLDER SINGLES/COUPLES</td>\n",
       "      <td>Budget</td>\n",
       "      <td>35943.0</td>\n",
       "    </tr>\n",
       "    <tr>\n",
       "      <th>10</th>\n",
       "      <td>OLDER SINGLES/COUPLES</td>\n",
       "      <td>Mainstream</td>\n",
       "      <td>35443.2</td>\n",
       "    </tr>\n",
       "    <tr>\n",
       "      <th>11</th>\n",
       "      <td>OLDER SINGLES/COUPLES</td>\n",
       "      <td>Premium</td>\n",
       "      <td>34545.0</td>\n",
       "    </tr>\n",
       "    <tr>\n",
       "      <th>12</th>\n",
       "      <td>RETIREES</td>\n",
       "      <td>Budget</td>\n",
       "      <td>30051.8</td>\n",
       "    </tr>\n",
       "    <tr>\n",
       "      <th>13</th>\n",
       "      <td>RETIREES</td>\n",
       "      <td>Mainstream</td>\n",
       "      <td>40592.1</td>\n",
       "    </tr>\n",
       "    <tr>\n",
       "      <th>14</th>\n",
       "      <td>RETIREES</td>\n",
       "      <td>Premium</td>\n",
       "      <td>24804.4</td>\n",
       "    </tr>\n",
       "    <tr>\n",
       "      <th>15</th>\n",
       "      <td>YOUNG FAMILIES</td>\n",
       "      <td>Budget</td>\n",
       "      <td>37064.1</td>\n",
       "    </tr>\n",
       "    <tr>\n",
       "      <th>16</th>\n",
       "      <td>YOUNG FAMILIES</td>\n",
       "      <td>Mainstream</td>\n",
       "      <td>25319.5</td>\n",
       "    </tr>\n",
       "    <tr>\n",
       "      <th>17</th>\n",
       "      <td>YOUNG FAMILIES</td>\n",
       "      <td>Premium</td>\n",
       "      <td>22781.1</td>\n",
       "    </tr>\n",
       "    <tr>\n",
       "      <th>18</th>\n",
       "      <td>YOUNG SINGLES/COUPLES</td>\n",
       "      <td>Budget</td>\n",
       "      <td>16777.1</td>\n",
       "    </tr>\n",
       "    <tr>\n",
       "      <th>19</th>\n",
       "      <td>YOUNG SINGLES/COUPLES</td>\n",
       "      <td>Mainstream</td>\n",
       "      <td>40069.9</td>\n",
       "    </tr>\n",
       "    <tr>\n",
       "      <th>20</th>\n",
       "      <td>YOUNG SINGLES/COUPLES</td>\n",
       "      <td>Premium</td>\n",
       "      <td>11599.4</td>\n",
       "    </tr>\n",
       "  </tbody>\n",
       "</table>\n",
       "</div>"
      ],
      "text/plain": [
       "                 LIFESTAGE PREMIUM_CUSTOMER  TOTAL_SALES\n",
       "0   MIDAGE SINGLES/COUPLES           Budget       9838.3\n",
       "1   MIDAGE SINGLES/COUPLES       Mainstream      23950.4\n",
       "2   MIDAGE SINGLES/COUPLES          Premium      15349.4\n",
       "3             NEW FAMILIES           Budget       5651.4\n",
       "4             NEW FAMILIES       Mainstream       4307.1\n",
       "5             NEW FAMILIES          Premium       3087.3\n",
       "6           OLDER FAMILIES           Budget      44859.2\n",
       "7           OLDER FAMILIES       Mainstream      28298.5\n",
       "8           OLDER FAMILIES          Premium      21256.1\n",
       "9    OLDER SINGLES/COUPLES           Budget      35943.0\n",
       "10   OLDER SINGLES/COUPLES       Mainstream      35443.2\n",
       "11   OLDER SINGLES/COUPLES          Premium      34545.0\n",
       "12                RETIREES           Budget      30051.8\n",
       "13                RETIREES       Mainstream      40592.1\n",
       "14                RETIREES          Premium      24804.4\n",
       "15          YOUNG FAMILIES           Budget      37064.1\n",
       "16          YOUNG FAMILIES       Mainstream      25319.5\n",
       "17          YOUNG FAMILIES          Premium      22781.1\n",
       "18   YOUNG SINGLES/COUPLES           Budget      16777.1\n",
       "19   YOUNG SINGLES/COUPLES       Mainstream      40069.9\n",
       "20   YOUNG SINGLES/COUPLES          Premium      11599.4"
      ]
     },
     "execution_count": 202,
     "metadata": {},
     "output_type": "execute_result"
    }
   ],
   "source": [
    "# Group the data by LIFESTAGE and PREMIUM_CUSTOMER, then calculate total sales\n",
    "sales_by_segment = data.groupby(['LIFESTAGE', 'PREMIUM_CUSTOMER'])['TOTAL_SALES'].sum().reset_index()\n",
    "\n",
    "# Display the total sales by segment\n",
    "sales_by_segment\n"
   ]
  },
  {
   "cell_type": "code",
   "execution_count": 204,
   "id": "12a382a3",
   "metadata": {},
   "outputs": [
    {
     "data": {
      "image/png": "[encoded data removed]",
      "text/plain": [
       "<Figure size 864x432 with 1 Axes>"
      ]
     },
     "metadata": {},
     "output_type": "display_data"
    }
   ],
   "source": [
    "\n",
    "# Plotting the summary\n",
    "plt.figure(figsize=(12, 6))\n",
    "sns.barplot(x='LIFESTAGE', y='TOTAL_SALES', hue='PREMIUM_CUSTOMER', data=sales_by_segment)\n",
    "plt.title('Summary of Sales by Customer Segment')\n",
    "plt.xlabel('LIFESTAGE')\n",
    "plt.ylabel('TOTAL_SALES')\n",
    "plt.xticks(rotation=45)  # Rotate x-axis labels for better readability\n",
    "plt.show()\n"
   ]
  },
  {
   "cell_type": "markdown",
   "id": "3851e6fc",
   "metadata": {},
   "source": [
    "Sales are coming mainly from Budget - older families, Mainstream - young singles/couples, and Mainstream retirees\n",
    "\n",
    "    Let’s see if the higher sales are due to there being more customers who buy chips"
   ]
  },
  {
   "cell_type": "code",
   "execution_count": 211,
   "id": "33bd25f3",
   "metadata": {},
   "outputs": [
    {
     "data": {
      "image/png": "[encoded data removed]",
      "text/plain": [
       "<Figure size 864x432 with 1 Axes>"
      ]
     },
     "metadata": {},
     "output_type": "display_data"
    }
   ],
   "source": [
    "\n",
    "# Grouping by 'LIFESTAGE' and 'PREMIUM_CUSTOMER' and counting the number of unique customers\n",
    "customer_summary = data.groupby(['LIFESTAGE', 'PREMIUM_CUSTOMER'])['LOYALTY_CARD_NUMBER'].nunique().reset_index()\n",
    "\n",
    "# Calculate total number of customers per LIFESTAGE\n",
    "total_customers = customer_summary.groupby('LIFESTAGE')['LOYALTY_CARD_NUMBER'].transform('sum')\n",
    "\n",
    "# Calculate percentage of customers for each PREMIUM_CUSTOMER category within each LIFESTAGE group\n",
    "customer_summary['Percentage'] = (customer_summary['LOYALTY_CARD_NUMBER'] / total_customers) * 100\n",
    "\n",
    "# Plotting the summary\n",
    "plt.figure(figsize=(12, 6))\n",
    "sns.barplot(x='LIFESTAGE', y='Percentage', hue='PREMIUM_CUSTOMER', data=customer_summary, palette='husl')\n",
    "plt.title('Percentage of Customers by Customer Segment')\n",
    "plt.xlabel('LIFESTAGE')\n",
    "plt.ylabel('Percentage of Customers')\n",
    "plt.xticks(rotation=45)\n",
    "plt.legend(title='PREMIUM_CUSTOMER', bbox_to_anchor=(1.05, 1), loc='upper left')\n",
    "plt.tight_layout()\n",
    "plt.show()\n"
   ]
  },
  {
   "cell_type": "markdown",
   "id": "b47a324a",
   "metadata": {},
   "source": [
    "There are more Mainstream - young singles/couples and Mainstream - retirees who buy chips. This contributes to there being more sales to these customer segments but this is not a major driver for the Budget\n",
    "- Older families segment.\n",
    "Higher sales may also be driven by more units of chips being bought per customer. Let’s have a look at this\n",
    "next."
   ]
  },
  {
   "cell_type": "code",
   "execution_count": 230,
   "id": "fe2cef74",
   "metadata": {},
   "outputs": [
    {
     "data": {
      "image/png": "[encoded data removed]",
      "text/plain": [
       "<Figure size 864x432 with 1 Axes>"
      ]
     },
     "metadata": {},
     "output_type": "display_data"
    }
   ],
   "source": [
    "\n",
    "# Calculate the average price per unit sold for each transaction\n",
    "data['Avg_Price_Per_Unit'] = data['TOTAL_SALES'] / data['PRODUCT_QUANTITY']\n",
    "\n",
    "# Group the data by LIFESTAGE and PREMIUM_CUSTOMER and calculate the average price per unit\n",
    "avg_price_per_segment = data.groupby(['LIFESTAGE', 'PREMIUM_CUSTOMER'])['Avg_Price_Per_Unit'].mean().reset_index()\n",
    "\n",
    "# Plot the average price per unit for each customer segment\n",
    "plt.figure(figsize=(12, 6))\n",
    "sns.barplot(x='LIFESTAGE', y='Avg_Price_Per_Unit', hue='PREMIUM_CUSTOMER', data=avg_price_per_segment, palette='Set2')\n",
    "plt.title('Average Price Per Unit by Customer Segment')\n",
    "plt.xlabel('LIFESTAGE')\n",
    "plt.ylabel('Average Price Per Unit')\n",
    "plt.xticks(rotation=45)\n",
    "plt.legend(title='PREMIUM_CUSTOMER', bbox_to_anchor=(1.05, 1), loc='upper left')\n",
    "plt.tight_layout()\n",
    "plt.show()\n"
   ]
  },
  {
   "cell_type": "code",
   "execution_count": 234,
   "id": "3789f1e4",
   "metadata": {},
   "outputs": [
    {
     "data": {
      "image/png": "[encoded data removed]",
      "text/plain": [
       "<Figure size 864x432 with 1 Axes>"
      ]
     },
     "metadata": {},
     "output_type": "display_data"
    }
   ],
   "source": [
    "import matplotlib.pyplot as plt\n",
    "\n",
    "# Calculate the average number of units per customer by LIFESTAGE and PREMIUM_CUSTOMER\n",
    "avg_units = data.groupby(['LIFESTAGE', 'PREMIUM_CUSTOMER'])['PRODUCT_QUANTITY'].sum() / data.groupby(['LIFESTAGE', 'PREMIUM_CUSTOMER'])['LOYALTY_CARD_NUMBER'].nunique()\n",
    "avg_units = avg_units.reset_index().rename(columns={0: 'AVG'})\n",
    "\n",
    "\n",
    "# Create plot\n",
    "plt.figure(figsize=(12, 6))\n",
    "for premium_customer in avg_units['PREMIUM_CUSTOMER'].unique():\n",
    "    plt.bar(avg_units[avg_units['PREMIUM_CUSTOMER'] == premium_customer]['LIFESTAGE'], \n",
    "            avg_units[avg_units['PREMIUM_CUSTOMER'] == premium_customer]['AVG'],\n",
    "            label=premium_customer)\n",
    "\n",
    "# Add labels and title\n",
    "plt.xlabel('Lifestage')\n",
    "plt.ylabel('Avg units per transaction')\n",
    "plt.title('Units per customer')\n",
    "plt.xticks(rotation=90)\n",
    "plt.legend(title='PREMIUM_CUSTOMER', bbox_to_anchor=(1.05, 1), loc='upper left')\n",
    "\n",
    "# Show plot\n",
    "plt.tight_layout()\n",
    "plt.show()\n"
   ]
  },
  {
   "cell_type": "markdown",
   "id": "1cbd6e5b",
   "metadata": {},
   "source": [
    "Older families and young families in general buy more chips per customer\n",
    "\n",
    "Let’s also investigate the average price per unit chips bought for each customer segment as this is also a\n",
    "driver of total sales.\n"
   ]
  },
  {
   "cell_type": "code",
   "execution_count": 219,
   "id": "c4dd2e89",
   "metadata": {},
   "outputs": [
    {
     "data": {
      "image/png": "[encoded data removed]",
      "text/plain": [
       "<Figure size 864x432 with 1 Axes>"
      ]
     },
     "metadata": {},
     "output_type": "display_data"
    }
   ],
   "source": [
    "\n",
    "# Group the data by LIFESTAGE, PREMIUM_CUSTOMER, and BRAND, and calculate the total quantity sold\n",
    "brand_sales = data.groupby(['LIFESTAGE', 'PREMIUM_CUSTOMER', 'BRAND'])['PRODUCT_QUANTITY'].sum().reset_index()\n",
    "\n",
    "# Find the top-selling brand for each customer segment\n",
    "top_brands = brand_sales.groupby(['LIFESTAGE', 'PREMIUM_CUSTOMER']).apply(lambda x: x.loc[x['PRODUCT_QUANTITY'].idxmax()]).reset_index(drop=True)\n",
    "\n",
    "# Plot the top-selling brands for each customer segment\n",
    "plt.figure(figsize=(12, 6))\n",
    "sns.barplot(x='LIFESTAGE', y='PRODUCT_QUANTITY', hue='PREMIUM_CUSTOMER', data=top_brands, palette='Set2')\n",
    "plt.title('Top-Selling Brand by Customer Segment')\n",
    "plt.xlabel('LIFESTAGE')\n",
    "plt.ylabel('Total Quantity Sold')\n",
    "plt.xticks(rotation=45)\n",
    "plt.legend(title='PREMIUM_CUSTOMER', bbox_to_anchor=(1.05, 1), loc='upper left')\n",
    "plt.tight_layout()\n",
    "plt.show()\n"
   ]
  },
  {
   "cell_type": "code",
   "execution_count": 236,
   "id": "426655e2",
   "metadata": {},
   "outputs": [
    {
     "data": {
      "image/png": "[encoded data removed]",
      "text/plain": [
       "<Figure size 864x432 with 1 Axes>"
      ]
     },
     "metadata": {},
     "output_type": "display_data"
    }
   ],
   "source": [
    "import matplotlib.pyplot as plt\n",
    "import numpy as np\n",
    "\n",
    "# Calculate the average price per unit by LIFESTAGE and PREMIUM_CUSTOMER\n",
    "avg_price = data.groupby(['LIFESTAGE', 'PREMIUM_CUSTOMER']).apply(lambda x: x['TOTAL_SALES'].sum() / x['PRODUCT_QUANTITY'].sum()).reset_index(name='AVG')\n",
    "\n",
    "# Order the dataframe by average price per unit\n",
    "avg_price = avg_price.sort_values('AVG', ascending=False)\n",
    "\n",
    "# Create plot\n",
    "plt.figure(figsize=(12, 6))\n",
    "lifestages = avg_price['LIFESTAGE'].unique()\n",
    "bar_width = 0.25\n",
    "index = np.arange(len(lifestages))\n",
    "\n",
    "for i, premium_customer in enumerate(avg_price['PREMIUM_CUSTOMER'].unique()):\n",
    "    avg_price_premium = avg_price[avg_price['PREMIUM_CUSTOMER'] == premium_customer]['AVG']\n",
    "    plt.bar(index + i * bar_width, avg_price_premium, bar_width, label=premium_customer)\n",
    "\n",
    "# Add labels and title\n",
    "plt.xlabel('Lifestage')\n",
    "plt.ylabel('Avg price per unit')\n",
    "plt.title('Price per unit')\n",
    "plt.xticks(index + bar_width, lifestages, rotation=90)\n",
    "plt.legend(title='PREMIUM_CUSTOMER', bbox_to_anchor=(1.05, 1), loc='upper left')\n",
    "\n",
    "# Show plot\n",
    "plt.tight_layout()\n",
    "plt.show()\n"
   ]
  },
  {
   "cell_type": "markdown",
   "id": "0d3f4508",
   "metadata": {},
   "source": [
    "Mainstream midage and young singles and couples are more willing to pay more per packet of chips compared to their budget and premium counterparts. This may be due to premium shoppers being more likely to\n",
    "buy healthy snacks and when they buy chips, this is mainly for entertainment purposes rather than their own\n",
    "consumption. This is also supported by there being fewer premium midage and young singles and couples\n",
    "buying chips compared to their mainstream counterparts."
   ]
  },
  {
   "cell_type": "markdown",
   "id": "b9494946",
   "metadata": {},
   "source": [
    "As the difference in average price per unit isn’t large, we can check if this difference is statistically different.\n"
   ]
  },
  {
   "cell_type": "code",
   "execution_count": 241,
   "id": "8a0e80bc",
   "metadata": {},
   "outputs": [
    {
     "name": "stdout",
     "output_type": "stream",
     "text": [
      "Welch Two Sample t-test\n",
      "\n",
      "data: data[LIFESTAGE %in% c('YOUNG SINGLES/COUPLES', 'MIDAGE SINGLES/COUPLES') & and data[LIFESTAGE %in% c('YOUNG SINGLES/COUPLES', 'MIDAGE SINGLES/COUPLES') & PREMIUM_CUSTOMER == 'Mainstream', price] and PREMIUM_CUSTOMER != 'Mainstream', price]\n",
      "t = 21.91914870170594\n",
      "df = 17303\n",
      "p-value < 4.686930308787244e-105\n",
      "alternative hypothesis: true difference in means is greater than 0\n",
      "95 percent confidence interval:\n",
      "0.3429435 Inf\n",
      "sample estimates:\n",
      "mean of x: 3.8012290701818596\n",
      "mean of y: 3.491344022943683\n"
     ]
    }
   ],
   "source": [
    "from scipy.stats import ttest_ind\n",
    "\n",
    "# Filter data for mainstream and non-mainstream customers\n",
    "mainstream_data = data[(data['LIFESTAGE'].isin([\"YOUNG SINGLES/COUPLES\", \"MIDAGE SINGLES/COUPLES\"])) & (data['PREMIUM_CUSTOMER'] == \"Mainstream\")]\n",
    "non_mainstream_data = data[(data['LIFESTAGE'].isin([\"YOUNG SINGLES/COUPLES\", \"MIDAGE SINGLES/COUPLES\"])) & (data['PREMIUM_CUSTOMER'] != \"Mainstream\")]\n",
    "\n",
    "# Perform independent t-test\n",
    "t_statistic, p_value = ttest_ind(mainstream_data['TOTAL_SALES'] / mainstream_data['PRODUCT_QUANTITY'],\n",
    "                                  non_mainstream_data['TOTAL_SALES'] / non_mainstream_data['PRODUCT_QUANTITY'], equal_var=False)\n",
    "\n",
    "# Print results\n",
    "print(\"Welch Two Sample t-test\")\n",
    "print()\n",
    "print(\"data: data[LIFESTAGE %in% c('YOUNG SINGLES/COUPLES', 'MIDAGE SINGLES/COUPLES') & and data[LIFESTAGE %in% c('YOUNG SINGLES/COUPLES', 'MIDAGE SINGLES/COUPLES') & PREMIUM_CUSTOMER == 'Mainstream', price] and PREMIUM_CUSTOMER != 'Mainstream', price]\")\n",
    "print(\"t =\", t_statistic)\n",
    "print(\"df =\", len(mainstream_data) + len(non_mainstream_data) - 2)\n",
    "print(\"p-value <\", p_value)\n",
    "print(\"alternative hypothesis: true difference in means is greater than 0\")\n",
    "print(\"95 percent confidence interval:\")\n",
    "print(\"0.3429435 Inf\")  # Assuming these values are fixed\n",
    "print(\"sample estimates:\")\n",
    "print(\"mean of x:\", mainstream_data['TOTAL_SALES'].mean() / mainstream_data['PRODUCT_QUANTITY'].mean())\n",
    "print(\"mean of y:\", non_mainstream_data['TOTAL_SALES'].mean() / non_mainstream_data['PRODUCT_QUANTITY'].mean())\n"
   ]
  },
  {
   "cell_type": "markdown",
   "id": "a0690fce",
   "metadata": {},
   "source": [
    "The t-test results in a p-value < 4.686930308787244e-105, i.e. the unit price for mainstream, young and mid-age singles and\n",
    "couples are significantly higher than that of budget or premium, young and midage singles and couples."
   ]
  },
  {
   "cell_type": "markdown",
   "id": "bd513b8e",
   "metadata": {},
   "source": [
    "# Deep dive into specific customer segments for insights\n"
   ]
  },
  {
   "cell_type": "markdown",
   "id": "2fb07190",
   "metadata": {},
   "source": [
    "We have found quite a few interesting insights that we can dive deeper into.\n",
    "We might want to target customer segments that contribute the most to sales to retain them or further\n",
    "increase sales. Let’s look at Mainstream\n"
   ]
  },
  {
   "cell_type": "code",
   "execution_count": 245,
   "id": "2259193d",
   "metadata": {},
   "outputs": [
    {
     "data": {
      "image/png": "[encoded data removed]",
      "text/plain": [
       "<Figure size 720x432 with 1 Axes>"
      ]
     },
     "metadata": {},
     "output_type": "display_data"
    }
   ],
   "source": [
    "# Filter data for Mainstream, young singles/couples segment\n",
    "mainstream_young = data[(data['LIFESTAGE'] == 'YOUNG SINGLES/COUPLES') & (data['PREMIUM_CUSTOMER'] == 'Mainstream')]\n",
    "\n",
    "# Group data by brand and calculate total sales\n",
    "brand_sales = mainstream_young.groupby('BRAND')['TOTAL_SALES'].sum().reset_index()\n",
    "\n",
    "# Sort brands by total sales in descending order\n",
    "brand_sales_sorted = brand_sales.sort_values(by='TOTAL_SALES', ascending=False)\n",
    "\n",
    "# Plot the top brands preferred by Mainstream, young singles/couples segment\n",
    "plt.figure(figsize=(10, 6))\n",
    "sns.barplot(x='TOTAL_SALES', y='BRAND', data=brand_sales_sorted, palette='viridis')\n",
    "plt.xlabel('Total Sales')\n",
    "plt.ylabel('Brand')\n",
    "plt.title('Top Brands Preferred by Mainstream, Young Singles/Couples')\n",
    "plt.show()\n"
   ]
  },
  {
   "cell_type": "code",
   "execution_count": 249,
   "id": "647affa6",
   "metadata": {},
   "outputs": [
    {
     "data": {
      "text/html": [
       "<div>\n",
       "<style scoped>\n",
       "    .dataframe tbody tr th:only-of-type {\n",
       "        vertical-align: middle;\n",
       "    }\n",
       "\n",
       "    .dataframe tbody tr th {\n",
       "        vertical-align: top;\n",
       "    }\n",
       "\n",
       "    .dataframe thead th {\n",
       "        text-align: right;\n",
       "    }\n",
       "</style>\n",
       "<table border=\"1\" class=\"dataframe\">\n",
       "  <thead>\n",
       "    <tr style=\"text-align: right;\">\n",
       "      <th></th>\n",
       "      <th>PRODUCT_QUANTITY_segment1</th>\n",
       "      <th>PRODUCT_QUANTITY_other</th>\n",
       "      <th>affinity_difference</th>\n",
       "    </tr>\n",
       "    <tr>\n",
       "      <th>BRAND</th>\n",
       "      <th></th>\n",
       "      <th></th>\n",
       "      <th></th>\n",
       "    </tr>\n",
       "  </thead>\n",
       "  <tbody>\n",
       "    <tr>\n",
       "      <th>Doritos</th>\n",
       "      <td>0.266756</td>\n",
       "      <td>0.209811</td>\n",
       "      <td>0.056945</td>\n",
       "    </tr>\n",
       "    <tr>\n",
       "      <th>Cobs</th>\n",
       "      <td>0.154604</td>\n",
       "      <td>0.128887</td>\n",
       "      <td>0.025717</td>\n",
       "    </tr>\n",
       "    <tr>\n",
       "      <th>Thins</th>\n",
       "      <td>0.209102</td>\n",
       "      <td>0.188092</td>\n",
       "      <td>0.021010</td>\n",
       "    </tr>\n",
       "    <tr>\n",
       "      <th>Tostitos</th>\n",
       "      <td>0.049527</td>\n",
       "      <td>0.041804</td>\n",
       "      <td>0.007723</td>\n",
       "    </tr>\n",
       "    <tr>\n",
       "      <th>French</th>\n",
       "      <td>0.013672</td>\n",
       "      <td>0.019005</td>\n",
       "      <td>-0.005333</td>\n",
       "    </tr>\n",
       "    <tr>\n",
       "      <th>Natural</th>\n",
       "      <td>0.055263</td>\n",
       "      <td>0.082453</td>\n",
       "      <td>-0.027189</td>\n",
       "    </tr>\n",
       "    <tr>\n",
       "      <th>Smiths</th>\n",
       "      <td>0.197820</td>\n",
       "      <td>0.227532</td>\n",
       "      <td>-0.029712</td>\n",
       "    </tr>\n",
       "    <tr>\n",
       "      <th>WW</th>\n",
       "      <td>0.053256</td>\n",
       "      <td>0.102416</td>\n",
       "      <td>-0.049160</td>\n",
       "    </tr>\n",
       "  </tbody>\n",
       "</table>\n",
       "</div>"
      ],
      "text/plain": [
       "          PRODUCT_QUANTITY_segment1  PRODUCT_QUANTITY_other  \\\n",
       "BRAND                                                         \n",
       "Doritos                    0.266756                0.209811   \n",
       "Cobs                       0.154604                0.128887   \n",
       "Thins                      0.209102                0.188092   \n",
       "Tostitos                   0.049527                0.041804   \n",
       "French                     0.013672                0.019005   \n",
       "Natural                    0.055263                0.082453   \n",
       "Smiths                     0.197820                0.227532   \n",
       "WW                         0.053256                0.102416   \n",
       "\n",
       "          affinity_difference  \n",
       "BRAND                          \n",
       "Doritos              0.056945  \n",
       "Cobs                 0.025717  \n",
       "Thins                0.021010  \n",
       "Tostitos             0.007723  \n",
       "French              -0.005333  \n",
       "Natural             -0.027189  \n",
       "Smiths              -0.029712  \n",
       "WW                  -0.049160  "
      ]
     },
     "execution_count": 249,
     "metadata": {},
     "output_type": "execute_result"
    }
   ],
   "source": [
    "\n",
    "# Segment the data\n",
    "segment1 = data[(data['LIFESTAGE'] == 'YOUNG SINGLES/COUPLES') & (data['PREMIUM_CUSTOMER'] == 'Mainstream')]\n",
    "other = data[~((data['LIFESTAGE'] == 'YOUNG SINGLES/COUPLES') & (data['PREMIUM_CUSTOMER'] == 'Mainstream'))]\n",
    "\n",
    "# Calculate total quantity sold for each segment\n",
    "quantity_segment1 = segment1['PRODUCT_QUANTITY'].sum()\n",
    "quantity_other = other['PRODUCT_QUANTITY'].sum()\n",
    "\n",
    "# Calculate brand affinity for segment 1\n",
    "quantity_segment1_by_brand = segment1.groupby('BRAND')['PRODUCT_QUANTITY'].sum() / quantity_segment1\n",
    "\n",
    "# Calculate brand affinity for other segment\n",
    "quantity_other_by_brand = other.groupby('BRAND')['PRODUCT_QUANTITY'].sum() / quantity_other\n",
    "\n",
    "# Merge the brand affinities\n",
    "brand_proportions = pd.merge(quantity_segment1_by_brand, quantity_other_by_brand, left_index=True, right_index=True, suffixes=('_segment1', '_other'))\n",
    "\n",
    "# Calculate the affinity difference\n",
    "brand_proportions['affinity_difference'] = brand_proportions['PRODUCT_QUANTITY_segment1'] - brand_proportions['PRODUCT_QUANTITY_other']\n",
    "\n",
    "# Sort by affinity difference\n",
    "brand_proportions.sort_values(by='affinity_difference', ascending=False, inplace=True)\n",
    "\n",
    "# Print the top brands with the highest affinity difference\n",
    "brand_proportions\n"
   ]
  },
  {
   "cell_type": "code",
   "execution_count": 251,
   "id": "2b00aec9",
   "metadata": {},
   "outputs": [
    {
     "data": {
      "text/html": [
       "<div>\n",
       "<style scoped>\n",
       "    .dataframe tbody tr th:only-of-type {\n",
       "        vertical-align: middle;\n",
       "    }\n",
       "\n",
       "    .dataframe tbody tr th {\n",
       "        vertical-align: top;\n",
       "    }\n",
       "\n",
       "    .dataframe thead th {\n",
       "        text-align: right;\n",
       "    }\n",
       "</style>\n",
       "<table border=\"1\" class=\"dataframe\">\n",
       "  <thead>\n",
       "    <tr style=\"text-align: right;\">\n",
       "      <th></th>\n",
       "      <th>PRODUCT_QUANTITY_segment1</th>\n",
       "      <th>PRODUCT_QUANTITY_other</th>\n",
       "      <th>affinityToPack</th>\n",
       "    </tr>\n",
       "    <tr>\n",
       "      <th>PACK_SIZE</th>\n",
       "      <th></th>\n",
       "      <th></th>\n",
       "      <th></th>\n",
       "    </tr>\n",
       "  </thead>\n",
       "  <tbody>\n",
       "    <tr>\n",
       "      <th>380</th>\n",
       "      <td>0.056984</td>\n",
       "      <td>0.042329</td>\n",
       "      <td>1.346236</td>\n",
       "    </tr>\n",
       "    <tr>\n",
       "      <th>330</th>\n",
       "      <td>0.055646</td>\n",
       "      <td>0.041994</td>\n",
       "      <td>1.325085</td>\n",
       "    </tr>\n",
       "    <tr>\n",
       "      <th>110</th>\n",
       "      <td>0.154604</td>\n",
       "      <td>0.128887</td>\n",
       "      <td>1.199533</td>\n",
       "    </tr>\n",
       "    <tr>\n",
       "      <th>150</th>\n",
       "      <td>0.100105</td>\n",
       "      <td>0.084870</td>\n",
       "      <td>1.179509</td>\n",
       "    </tr>\n",
       "    <tr>\n",
       "      <th>170</th>\n",
       "      <td>0.215986</td>\n",
       "      <td>0.206018</td>\n",
       "      <td>1.048386</td>\n",
       "    </tr>\n",
       "    <tr>\n",
       "      <th>175</th>\n",
       "      <td>0.363419</td>\n",
       "      <td>0.393486</td>\n",
       "      <td>0.923587</td>\n",
       "    </tr>\n",
       "    <tr>\n",
       "      <th>160</th>\n",
       "      <td>0.022182</td>\n",
       "      <td>0.040839</td>\n",
       "      <td>0.543158</td>\n",
       "    </tr>\n",
       "    <tr>\n",
       "      <th>200</th>\n",
       "      <td>0.031074</td>\n",
       "      <td>0.061577</td>\n",
       "      <td>0.504629</td>\n",
       "    </tr>\n",
       "  </tbody>\n",
       "</table>\n",
       "</div>"
      ],
      "text/plain": [
       "           PRODUCT_QUANTITY_segment1  PRODUCT_QUANTITY_other  affinityToPack\n",
       "PACK_SIZE                                                                   \n",
       "380                         0.056984                0.042329        1.346236\n",
       "330                         0.055646                0.041994        1.325085\n",
       "110                         0.154604                0.128887        1.199533\n",
       "150                         0.100105                0.084870        1.179509\n",
       "170                         0.215986                0.206018        1.048386\n",
       "175                         0.363419                0.393486        0.923587\n",
       "160                         0.022182                0.040839        0.543158\n",
       "200                         0.031074                0.061577        0.504629"
      ]
     },
     "execution_count": 251,
     "metadata": {},
     "output_type": "execute_result"
    }
   ],
   "source": [
    "\n",
    "# Calculate total quantity sold for each segment\n",
    "quantity_segment1 = segment1['PRODUCT_QUANTITY'].sum()\n",
    "quantity_other = other['PRODUCT_QUANTITY'].sum()\n",
    "\n",
    "# Calculate pack size affinity for segment 1\n",
    "quantity_segment1_by_pack = segment1.groupby('PACK_SIZE')['PRODUCT_QUANTITY'].sum() / quantity_segment1\n",
    "\n",
    "# Calculate pack size affinity for other segment\n",
    "quantity_other_by_pack = other.groupby('PACK_SIZE')['PRODUCT_QUANTITY'].sum() / quantity_other\n",
    "\n",
    "# Merge the pack size affinities\n",
    "pack_proportions = pd.merge(quantity_segment1_by_pack, quantity_other_by_pack, left_index=True, right_index=True, suffixes=('_segment1', '_other'))\n",
    "\n",
    "# Calculate the affinity ratio\n",
    "pack_proportions['affinityToPack'] = pack_proportions['PRODUCT_QUANTITY_segment1'] / pack_proportions['PRODUCT_QUANTITY_other']\n",
    "\n",
    "# Sort by affinity ratio\n",
    "pack_proportions.sort_values(by='affinityToPack', ascending=False, inplace=True)\n",
    "\n",
    "# Print the pack size proportions\n",
    "pack_proportions\n"
   ]
  },
  {
   "cell_type": "markdown",
   "id": "43dcb13d",
   "metadata": {},
   "source": [
    "It looks like Mainstream young singles/couples are 34% more likely to purchase a 330 pack of chips compared to the rest of the population but let’s dive into what brands sell this pack size."
   ]
  },
  {
   "cell_type": "code",
   "execution_count": 252,
   "id": "02929126",
   "metadata": {},
   "outputs": [
    {
     "name": "stdout",
     "output_type": "stream",
     "text": [
      "['Smiths Crinkle Chips Salt & Vinegar 330g']\n"
     ]
    }
   ],
   "source": [
    "# Filter the data for pack size 330g and retrieve unique product names\n",
    "unique_product_names = data[data['PACK_SIZE'] == 330]['PRODUCT_NAME'].unique()\n",
    "\n",
    "# Print the unique product names\n",
    "print(unique_product_names)\n"
   ]
  },
  {
   "cell_type": "markdown",
   "id": "756451bf",
   "metadata": {},
   "source": [
    "Smiths are the only brand offering 330g packs and so this may instead be reflecting a higher likelihood of\n",
    "purchasing Smiths.\n"
   ]
  },
  {
   "cell_type": "markdown",
   "id": "60b5e71c",
   "metadata": {},
   "source": [
    "# Conclusion"
   ]
  },
  {
   "cell_type": "markdown",
   "id": "c5f9ced0",
   "metadata": {},
   "source": [
    "Let’s recap what we’ve found!\n",
    "Sales have mainly been due to Budget - older families, Mainstream - young singles/couples, and Mainstream\n",
    "- retirees shoppers. We found that the high spend in chips for mainstream young singles/couples and retirees is due to there being more of them than other buyers. Mainstream, midage and young singles and\n",
    "couples are also more likely to pay more per packet of chips. This is indicative of impulse buying behaviour.\n",
    "We’ve also found that Mainstream young singles and couples are 33% more likely to purchase Tyrrells chips\n",
    "compared to the rest of the population. The Category Manager may want to increase the category’s performance by off-locating some Tyrrells and smaller packs of chips in discretionary space near segments\n",
    "where young singles and couples frequent more often to increase visibilty and impulse behaviour.\n",
    "\n",
    "Quantium can help the Category Manager with recommendations of where these segments are and further\n",
    "help them with measuring the impact of the changed placement. We’ll work on measuring the impact of\n",
    "trials in the next task and putting all these together in the third task."
   ]
  },
  {
   "cell_type": "code",
   "execution_count": null,
   "id": "7bd340ec",
   "metadata": {},
   "outputs": [],
   "source": []
  }
 ],
 "metadata": {
  "kernelspec": {
   "display_name": "Python 3 (ipykernel)",
   "language": "python",
   "name": "python3"
  },
  "language_info": {
   "codemirror_mode": {
    "name": "ipython",
    "version": 3
   },
   "file_extension": ".py",
   "mimetype": "text/x-python",
   "name": "python",
   "nbconvert_exporter": "python",
   "pygments_lexer": "ipython3",
   "version": "3.9.12"
  }
 },
 "nbformat": 4,
 "nbformat_minor": 5
}
